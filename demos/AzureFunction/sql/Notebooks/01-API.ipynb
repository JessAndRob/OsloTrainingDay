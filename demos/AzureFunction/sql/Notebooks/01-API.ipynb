{
    "metadata": {
        "kernelspec": {
            "name": "SQL",
            "display_name": "SQL",
            "language": "sql"
        },
        "language_info": {
            "name": "sql",
            "version": ""
        }
    },
    "nbformat_minor": 2,
    "nbformat": 4,
    "cells": [
        {
            "cell_type": "markdown",
            "source": [
                "# Call an API to get some data\r\n",
                "\r\n",
                "We can call any APIs that are in our Azure 'API Management Instance'.\r\n",
                "This is basically a gateway to other APIs. We can add any that meet the OpenAPI Specification.\r\n",
                "\r\n",
                "## PreReqs\r\n",
                "- Create an 'API Management Instance'\r\n",
                "- Add & publish an API\r\n",
                "- These APIs can be open or secured\r\n",
                "    - If secured you'll need a subscription key from APIM to connect\r\n",
                "\r\n",
                "## Demo\r\n",
                "\r\n",
                "For secured APIs we'll need to save the subscription key as a `DATABASE SCOPED CREDENTIAL`\r\n",
                "\r\n",
                "1. We'll need a database master key with a proper strong password"
            ],
            "metadata": {
                "azdata_cell_guid": "a7bb63cd-49ae-4e2e-b0fe-35190a7f1b87"
            },
            "attachments": {}
        },
        {
            "cell_type": "code",
            "source": [
                "IF NOT EXISTS(SELECT * FROM sys.symmetric_keys WHERE name = '##MS_DatabaseMasterKey##')\r\n",
                "BEGIN\r\n",
                "    create master key encryption by password = '****'\r\n",
                "END"
            ],
            "metadata": {
                "azdata_cell_guid": "d017fdd4-55a4-412d-aa76-516c7e45ab50",
                "language": "sql"
            },
            "outputs": [
                {
                    "output_type": "display_data",
                    "data": {
                        "text/html": "Commands completed successfully."
                    },
                    "metadata": {}
                },
                {
                    "output_type": "display_data",
                    "data": {
                        "text/html": "Total execution time: 00:00:00.065"
                    },
                    "metadata": {}
                }
            ],
            "execution_count": 1
        },
        {
            "cell_type": "markdown",
            "source": [
                "2. Create the `DATABASE SCOPED CREDENTIAL` for the subscription key"
            ],
            "metadata": {
                "azdata_cell_guid": "8e070804-9ba1-4c47-b0e8-08518f944d0a"
            },
            "attachments": {}
        },
        {
            "cell_type": "code",
            "source": [
                "DROP DATABASE SCOPED CREDENTIAL [https://pom-api.azure-api.net/conference/speakers]\r\n",
                "IF NOT EXISTS (SELECT 1 FROM sys.database_credentials WHERE name = 'https://pom-api.azure-api.net/conference/speakers')\r\n",
                "BEGIN\r\n",
                "    -- create a database scoped credential for managed identity (or Request Headers or Query String)\r\n",
                "    CREATE DATABASE SCOPED CREDENTIAL [https://pom-api.azure-api.net/conference/speakers]\r\n",
                "    WITH IDENTITY = 'HTTPEndpointHeaders', SECRET = '{\"Ocp-Apim-Subscription-Key\":\"***\"}';\r\n",
                "END"
            ],
            "metadata": {
                "azdata_cell_guid": "3a729930-ea50-4079-a8c1-cb7bb3842467",
                "language": "sql",
                "tags": []
            },
            "outputs": [
                {
                    "output_type": "display_data",
                    "data": {
                        "text/html": "Commands completed successfully."
                    },
                    "metadata": {}
                },
                {
                    "output_type": "display_data",
                    "data": {
                        "text/html": "Total execution time: 00:00:00.063"
                    },
                    "metadata": {}
                }
            ],
            "execution_count": 10
        },
        {
            "cell_type": "markdown",
            "source": [
                "3. Call the API and store the response in a temp table"
            ],
            "metadata": {
                "language": "sql",
                "azdata_cell_guid": "c8dc6882-42f4-4890-9fde-14a1e9d13b8c"
            },
            "attachments": {}
        },
        {
            "cell_type": "code",
            "source": [
                "drop table if exists #temp \r\n",
                "\r\n",
                "declare @url varchar(500) = 'https://pom-api.azure-api.net/conference/speakers'\r\n",
                "\r\n",
                "declare @ret as int, @response as nvarchar(max);\r\n",
                "\r\n",
                "exec @ret = sp_invoke_external_rest_endpoint\r\n",
                "\t @method = 'GET',\r\n",
                "\t @url = @url,\r\n",
                "     @credential = [https://pom-api.azure-api.net/conference/speakers],\r\n",
                " \t @response = @response output;\r\n",
                "\t\r\n",
                "select @ret as ReturnCode, @response as Response\r\n",
                "into #temp\r\n",
                "\r\n",
                "declare @data as nvarchar(max);\r\n",
                "\r\n",
                "select \r\n",
                "\t@data = JSON_QUERY(response, '$.result.collection.items')\r\n",
                "from #temp;\r\n",
                "\r\n",
                "select \r\n",
                "\tReturnCode, Response\r\n",
                "from #temp"
            ],
            "metadata": {
                "azdata_cell_guid": "3eb8b19e-610e-4c61-aca7-3c88d028daaf",
                "language": "sql",
                "tags": []
            },
            "outputs": [
                {
                    "output_type": "display_data",
                    "data": {
                        "text/html": "(1 row affected)"
                    },
                    "metadata": {}
                },
                {
                    "output_type": "display_data",
                    "data": {
                        "text/html": "(1 row affected)"
                    },
                    "metadata": {}
                },
                {
                    "output_type": "display_data",
                    "data": {
                        "text/html": "Total execution time: 00:00:01.016"
                    },
                    "metadata": {}
                },
                {
                    "output_type": "execute_result",
                    "metadata": {},
                    "execution_count": 11,
                    "data": {
                        "application/vnd.dataresource+json": {
                            "schema": {
                                "fields": [
                                    {
                                        "name": "ReturnCode"
                                    },
                                    {
                                        "name": "Response"
                                    }
                                ]
                            },
                            "data": [
                                {
                                    "ReturnCode": "0",
                                    "Response": "{\"response\":{\"status\":{\"http\":{\"code\":200,\"description\":\"OK\"}},\"headers\":{\"Cache-Control\":\"no-cache\",\"Date\":\"Sat, 19 Aug 2023 16:29:26 GMT\",\"Pragma\":\"no-cache\",\"Content-Length\":\"40606\",\"Content-Type\":\"application\\/vnd.collection+json\",\"Expires\":\"-1\",\"Set-Cookie\":\"ARRAffinity=8fc238af3238d4d99f33390b9ab0da11f97e34757d0c5fe645fa69381d77e39d;Path=\\/;HttpOnly;Secure;Domain=conferenceapi.azurewebsites.net\",\"Set-Cookie\":\"ARRAffinitySameSite=8fc238af3238d4d99f33390b9ab0da11f97e34757d0c5fe645fa69381d77e39d;Path=\\/;HttpOnly;SameSite=None;Secure;Domain=conferenceapi.azurewebsites.net\",\"X-AspNet-Version\":\"4.0.30319\",\"X-Powered-By\":\"ASP.NET\"}},\"result\":{\r\n  \"collection\": {\r\n    \"version\": \"1.0\",\r\n    \"href\": \"https://conferenceapi.azurewebsites.net:443/speakers\",\r\n    \"links\": [],\r\n    \"items\": [\r\n      {\r\n        \"href\": \"https://conferenceapi.azurewebsites.net/speaker/1\",\r\n        \"data\": [\r\n          {\r\n            \"name\": \"Name\",\r\n            \"value\": \"Scott Guthrie\"\r\n          }\r\n        ],\r\n        \"links\": [\r\n          {\r\n            \"rel\": \"http://tavis.net/rels/sessions\",\r\n            \"href\": \"https://conferenceapi.azurewebsites.net/speaker/1/sessions\"\r\n          }\r\n        ]\r\n      },\r\n      {\r\n        \"href\": \"https://conferenceapi.azurewebsites.net/speaker/2\",\r\n        \"data\": [\r\n          {\r\n            \"name\": \"Name\",\r\n            \"value\": \"Don Syme\"\r\n          }\r\n        ],\r\n        \"links\": [\r\n          {\r\n            \"rel\": \"http://tavis.net/rels/sessions\",\r\n            \"href\": \"https://conferenceapi.azurewebsites.net/speaker/2/sessions\"\r\n          }\r\n        ]\r\n      },\r\n      {\r\n        \"href\": \"https://conferenceapi.azurewebsites.net/speaker/3\",\r\n        \"data\": [\r\n          {\r\n            \"name\": \"Name\",\r\n            \"value\": \"James Lewis\"\r\n          }\r\n        ],\r\n        \"links\": [\r\n          {\r\n            \"rel\": \"http://tavis.net/rels/sessions\",\r\n            \"href\": \"https://conferenceapi.azurewebsites.net/speaker/3/sessions\"\r\n          }\r\n        ]\r\n      },\r\n      {\r\n        \"href\": \"https://conferenceapi.azurewebsites.net/speaker/4\",\r\n        \"data\": [\r\n          {\r\n            \"name\": \"Name\",\r\n            \"value\": \"Jessie Shternshus\"\r\n          }\r\n        ],\r\n        \"links\": [\r\n          {\r\n            \"rel\": \"http://tavis.net/rels/sessions\",\r\n            \"href\": \"https://conferenceapi.azurewebsites.net/speaker/4/sessions\"\r\n          }\r\n        ]\r\n      },\r\n      {\r\n        \"href\": \"https://conferenceapi.azurewebsites.net/speaker/5\",\r\n        \"data\": [\r\n          {\r\n            \"name\": \"Name\",\r\n            \"value\": \"Peter Bacon Darwin\"\r\n          }\r\n        ],\r\n        \"links\": [\r\n          {\r\n            \"rel\": \"http://tavis.net/rels/sessions\",\r\n            \"href\": \"https://conferenceapi.azurewebsites.net/speaker/5/sessions\"\r\n          }\r\n        ]\r\n      },\r\n      {\r\n        \"href\": \"https://conferenceapi.azurewebsites.net/speaker/6\",\r\n        \"data\": [\r\n          {\r\n            \"name\": \"Name\",\r\n            \"value\": \"Jon Skeet\"\r\n          }\r\n        ],\r\n        \"links\": [\r\n          {\r\n            \"rel\": \"http://tavis.net/rels/sessions\",\r\n            \"href\": \"https://conferenceapi.azurewebsites.net/speaker/6/sessions\"\r\n          }\r\n        ]\r\n      },\r\n      {\r\n        \"href\": \"https://conferenceapi.azurewebsites.net/speaker/7\",\r\n        \"data\": [\r\n          {\r\n            \"name\": \"Name\",\r\n            \"value\": \"Dominick Baier\"\r\n          }\r\n        ],\r\n        \"links\": [\r\n          {\r\n            \"rel\": \"http://tavis.net/rels/sessions\",\r\n            \"href\": \"https://conferenceapi.azurewebsites.net/speaker/7/sessions\"\r\n          }\r\n        ]\r\n      },\r\n      {\r\n        \"href\": \"https://conferenceapi.azurewebsites.net/speaker/8\",\r\n        \"data\": [\r\n          {\r\n            \"name\": \"Name\",\r\n            \"value\": \"Craig Dunn\"\r\n          }\r\n        ],\r\n        \"links\": [\r\n          {\r\n            \"rel\": \"http://tavis.net/rels/sessions\",\r\n            \"href\": \"https://conferenceapi.azurewebsites.net/speaker/8/sessions\"\r\n          }\r\n        ]\r\n      },\r\n      {\r\n        \"href\": \"https://conferenceapi.azurewebsites.net/speaker/9\",\r\n        \"data\": [\r\n          {\r\n            \"name\": \"Name\",\r\n            \"value\": \"Jez Humble\"\r\n          }\r\n        ],\r\n        \"links\": [\r\n          {\r\n            \"rel\": \"http://tavis.net/rels/sessions\",\r\n            \"href\": \"https://conferenceapi.azurewebsites.net/speaker/9/sessions\"\r\n          }\r\n        ]\r\n      },\r\n      {\r\n        \"href\": \"https://conferenceapi.azurewebsites.net/speaker/10\",\r\n        \"data\": [\r\n          {\r\n            \"name\": \"Name\",\r\n            \"value\": \"Axel Rauschmayer\"\r\n          }\r\n        ],\r\n        \"links\": [\r\n          {\r\n            \"rel\": \"http://tavis.net/rels/sessions\",\r\n            \"href\": \"https://conferenceapi.azurewebsites.net/speaker/10/sessions\"\r\n          }\r\n        ]\r\n      },\r\n      {\r\n        \"href\": \"https://conferenceapi.azurewebsites.net/speaker/11\",\r\n        \"data\": [\r\n          {\r\n            \"name\": \"Name\",\r\n            \"value\": \"Phillip Trelford\"\r\n          }\r\n        ],\r\n        \"links\": [\r\n          {\r\n            \"rel\": \"http://tavis.net/rels/sessions\",\r\n            \"href\": \"https://conferenceapi.azurewebsites.net/speaker/11/sessions\"\r\n          }\r\n        ]\r\n      },\r\n      {\r\n        \"href\": \"https://conferenceapi.azurewebsites.net/speaker/12\",\r\n        \"data\": [\r\n          {\r\n            \"name\": \"Name\",\r\n            \"value\": \"Mike Cohn\"\r\n          }\r\n        ],\r\n        \"links\": [\r\n          {\r\n            \"rel\": \"http://tavis.net/rels/sessions\",\r\n            \"href\": \"https://conferenceapi.azurewebsites.net/speaker/12/sessions\"\r\n          }\r\n        ]\r\n      },\r\n      {\r\n        \"href\": \"https://conferenceapi.azurewebsites.net/speaker/13\",\r\n        \"data\": [\r\n          {\r\n            \"name\": \"Name\",\r\n            \"value\": \"Robert C. Martin\"\r\n          }\r\n        ],\r\n        \"links\": [\r\n          {\r\n            \"rel\": \"http://tavis.net/rels/sessions\",\r\n            \"href\": \"https://conferenceapi.azurewebsites.net/speaker/13/sessions\"\r\n          }\r\n        ]\r\n      },\r\n      {\r\n        \"href\": \"https://conferenceapi.azurewebsites.net/speaker/14\",\r\n        \"data\": [\r\n          {\r\n            \"name\": \"Name\",\r\n            \"value\": \"Jafar Husain\"\r\n          }\r\n        ],\r\n        \"links\": [\r\n          {\r\n            \"rel\": \"http://tavis.net/rels/sessions\",\r\n            \"href\": \"https://conferenceapi.azurewebsites.net/speaker/14/sessions\"\r\n          }\r\n        ]\r\n      },\r\n      {\r\n        \"href\": \"https://conferenceapi.azurewebsites.net/speaker/15\",\r\n        \"data\": [\r\n          {\r\n            \"name\": \"Name\",\r\n            \"value\": \"Jessica Kerr\"\r\n          }\r\n        ],\r\n        \"links\": [\r\n          {\r\n            \"rel\": \"http://tavis.net/rels/sessions\",\r\n            \"href\": \"https://conferenceapi.azurewebsites.net/speaker/15/sessions\"\r\n          }\r\n        ]\r\n      },\r\n      {\r\n        \"href\": \"https://conferenceapi.azurewebsites.net/speaker/16\",\r\n        \"data\": [\r\n          {\r\n            \"name\": \"Name\",\r\n            \"value\": \"Scott Allen\"\r\n          }\r\n        ],\r\n        \"links\": [\r\n          {\r\n            \"rel\": \"http://tavis.net/rels/sessions\",\r\n            \"href\": \"https://conferenceapi.azurewebsites.net/speaker/16/sessions\"\r\n          }\r\n        ]\r\n      },\r\n      {\r\n        \"href\": \"https://conferenceapi.azurewebsites.net/speaker/17\",\r\n        \"data\": [\r\n          {\r\n            \"name\": \"Name\",\r\n            \"value\": \"Sahil Malik\"\r\n          }\r\n        ],\r\n        \"links\": [\r\n          {\r\n            \"rel\": \"http://tavis.net/rels/sessions\",\r\n            \"href\": \"https://conferenceapi.azurewebsites.net/speaker/17/sessions\"\r\n          }\r\n        ]\r\n      },\r\n      {\r\n        \"href\": \"https://conferenceapi.azurewebsites.net/speaker/18\",\r\n        \"data\": [\r\n          {\r\n            \"name\": \"Name\",\r\n            \"value\": \"David Fowler\"\r\n          }\r\n        ],\r\n        \"links\": [\r\n          {\r\n            \"rel\": \"http://tavis.net/rels/sessions\",\r\n            \"href\": \"https://conferenceapi.azurewebsites.net/speaker/18/sessions\"\r\n          }\r\n        ]\r\n      },\r\n      {\r\n        \"href\": \"https://conferenceapi.azurewebsites.net/speaker/19\",\r\n        \"data\": [\r\n          {\r\n            \"name\": \"Name\",\r\n            \"value\": \"Dan North\"\r\n          }\r\n        ],\r\n        \"links\": [\r\n          {\r\n            \"rel\": \"http://tavis.net/rels/sessions\",\r\n            \"href\": \"https://conferenceapi.azurewebsites.net/speaker/19/sessions\"\r\n          }\r\n        ]\r\n      },\r\n      {\r\n        \"href\": \"https://conferenceapi.azurewebsites.net/speaker/20\",\r\n        \"data\": [\r\n          {\r\n            \"name\": \"Name\",\r\n            \"value\": \"Ashe Dryden\"\r\n          }\r\n        ],\r\n        \"links\": [\r\n          {\r\n            \"rel\": \"http://tavis.net/rels/sessions\",\r\n            \"href\": \"https://conferenceapi.azurewebsites.net/speaker/20/sessions\"\r\n          }\r\n        ]\r\n      },\r\n      {\r\n        \"href\": \"https://conferenceapi.azurewebsites.net/speaker/21\",\r\n        \"data\": [\r\n          {\r\n            \"name\": \"Name\",\r\n            \"value\": \"Jon Galloway\"\r\n          }\r\n        ],\r\n        \"links\": [\r\n          {\r\n            \"rel\": \"http://tavis.net/rels/sessions\",\r\n            \"href\": \"https://conferenceapi.azurewebsites.net/speaker/21/sessions\"\r\n          }\r\n        ]\r\n      },\r\n      {\r\n        \"href\": \"https://conferenceapi.azurewebsites.net/speaker/22\",\r\n        \"data\": [\r\n          {\r\n            \"name\": \"Name\",\r\n            \"value\": \"John Azariah\"\r\n          }\r\n        ],\r\n        \"links\": [\r\n          {\r\n            \"rel\": \"http://tavis.net/rels/sessions\",\r\n            \"href\": \"https://conferenceapi.azurewebsites.net/speaker/22/sessions\"\r\n          }\r\n        ]\r\n      },\r\n      {\r\n        \"href\": \"https://conferenceapi.azurewebsites.net/speaker/23\",\r\n        \"data\": [\r\n          {\r\n            \"name\": \"Name\",\r\n            \"value\": \"Damian Edwards\"\r\n          }\r\n        ],\r\n        \"links\": [\r\n          {\r\n            \"rel\": \"http://tavis.net/rels/sessions\",\r\n            \"href\": \"https://conferenceapi.azurewebsites.net/speaker/23/sessions\"\r\n          }\r\n        ]\r\n      },\r\n      {\r\n        \"href\": \"https://conferenceapi.azurewebsites.net/speaker/24\",\r\n        \"data\": [\r\n          {\r\n            \"name\": \"Name\",\r\n            \"value\": \"Michele Bustamante\"\r\n          }\r\n        ],\r\n        \"links\": [\r\n          {\r\n            \"rel\": \"http://tavis.net/rels/sessions\",\r\n            \"href\": \"https://conferenceapi.azurewebsites.net/speaker/24/sessions\"\r\n          }\r\n        ]\r\n      },\r\n      {\r\n        \"href\": \"https://conferenceapi.azurewebsites.net/speaker/25\",\r\n        \"data\": [\r\n          {\r\n            \"name\": \"Name\",\r\n            \"value\": \"Venkat Subramaniam\"\r\n          }\r\n        ],\r\n        \"links\": [\r\n          {\r\n            \"rel\": \"http://tavis.net/rels/sessions\",\r\n            \"href\": \"https://conferenceapi.azurewebsites.net/speaker/25/sessions\"\r\n          }\r\n        ]\r\n      },\r\n      {\r\n        \"href\": \"https://conferenceapi.azurewebsites.net/speaker/26\",\r\n        \"data\": [\r\n          {\r\n            \"name\": \"Name\",\r\n            \"value\": \"Marit Rossnes\"\r\n          }\r\n        ],\r\n        \"links\": [\r\n          {\r\n            \"rel\": \"http://tavis.net/rels/sessions\",\r\n            \"href\": \"https://conferenceapi.azurewebsites.net/speaker/26/sessions\"\r\n          }\r\n        ]\r\n      },\r\n      {\r\n        \"href\": \"https://conferenceapi.azurewebsites.net/speaker/27\",\r\n        \"data\": [\r\n          {\r\n            \"name\": \"Name\",\r\n            \"value\": \"Mads Torgersen\"\r\n          }\r\n        ],\r\n        \"links\": [\r\n          {\r\n            \"rel\": \"http://tavis.net/rels/sessions\",\r\n            \"href\": \"https://conferenceapi.azurewebsites.net/speaker/27/sessions\"\r\n          }\r\n        ]\r\n      },\r\n      {\r\n        \"href\": \"https://conferenceapi.azurewebsites.net/speaker/28\",\r\n        \"data\": [\r\n          {\r\n            \"name\": \"Name\",\r\n            \"value\": \"Nicole Herskowitz\"\r\n          }\r\n        ],\r\n        \"links\": [\r\n          {\r\n            \"rel\": \"http://tavis.net/rels/sessions\",\r\n            \"href\": \"https://conferenceapi.azurewebsites.net/speaker/28/sessions\"\r\n          }\r\n        ]\r\n      },\r\n      {\r\n        \"href\": \"https://conferenceapi.azurewebsites.net/speaker/29\",\r\n        \"data\": [\r\n          {\r\n            \"name\": \"Name\",\r\n            \"value\": \"Gill Cleeren\"\r\n          }\r\n        ],\r\n        \"links\": [\r\n          {\r\n            \"rel\": \"http://tavis.net/rels/sessions\",\r\n            \"href\": \"https://conferenceapi.azurewebsites.net/speaker/29/sessions\"\r\n          }\r\n        ]\r\n      },\r\n      {\r\n        \"href\": \"https://conferenceapi.azurewebsites.net/speaker/30\",\r\n        \"data\": [\r\n          {\r\n            \"name\": \"Name\",\r\n            \"value\": \"Gary Bernhardt\"\r\n          }\r\n        ],\r\n        \"links\": [\r\n          {\r\n            \"rel\": \"http://tavis.net/rels/sessions\",\r\n            \"href\": \"https://conferenceapi.azurewebsites.net/speaker/30/sessions\"\r\n          }\r\n        ]\r\n      },\r\n      {\r\n        \"href\": \"https://conferenceapi.azurewebsites.net/speaker/31\",\r\n        \"data\": [\r\n          {\r\n            \"name\": \"Name\",\r\n            \"value\": \"Mathew McLoughlin\"\r\n          }\r\n        ],\r\n        \"links\": [\r\n          {\r\n            \"rel\": \"http://tavis.net/rels/sessions\",\r\n            \"href\": \"https://conferenceapi.azurewebsites.net/speaker/31/sessions\"\r\n          }\r\n        ]\r\n      },\r\n      {\r\n        \"href\": \"https://conferenceapi.azurewebsites.net/speaker/32\",\r\n        \"data\": [\r\n          {\r\n            \"name\": \"Name\",\r\n            \"value\": \"David Carmona\"\r\n          }\r\n        ],\r\n        \"links\": [\r\n          {\r\n            \"rel\": \"http://tavis.net/rels/sessions\",\r\n            \"href\": \"https://conferenceapi.azurewebsites.net/speaker/32/sessions\"\r\n          }\r\n        ]\r\n      },\r\n      {\r\n        \"href\": \"https://conferenceapi.azurewebsites.net/speaker/33\",\r\n        \"data\": [\r\n          {\r\n            \"name\": \"Name\",\r\n            \"value\": \"Juval Lowy\"\r\n          }\r\n        ],\r\n        \"links\": [\r\n          {\r\n            \"rel\": \"http://tavis.net/rels/sessions\",\r\n            \"href\": \"https://conferenceapi.azurewebsites.net/speaker/33/sessions\"\r\n          }\r\n        ]\r\n      },\r\n      {\r\n        \"href\": \"https://conferenceapi.azurewebsites.net/speaker/34\",\r\n        \"data\": [\r\n          {\r\n            \"name\": \"Name\",\r\n            \"value\": \"Louis Dejardin\"\r\n          }\r\n        ],\r\n        \"links\": [\r\n          {\r\n            \"rel\": \"http://tavis.net/rels/sessions\",\r\n            \"href\": \"https://conferenceapi.azurewebsites.net/speaker/34/sessions\"\r\n          }\r\n        ]\r\n      },\r\n      {\r\n        \"href\": \"https://conferenceapi.azurewebsites.net/speaker/35\",\r\n        \"data\": [\r\n          {\r\n            \"name\": \"Name\",\r\n            \"value\": \"Stuart Lodge\"\r\n          }\r\n        ],\r\n        \"links\": [\r\n          {\r\n            \"rel\": \"http://tavis.net/rels/sessions\",\r\n            \"href\": \"https://conferenceapi.azurewebsites.net/speaker/35/sessions\"\r\n          }\r\n        ]\r\n      },\r\n      {\r\n        \"href\": \"https://conferenceapi.azurewebsites.net/speaker/36\",\r\n        \"data\": [\r\n          {\r\n            \"name\": \"Name\",\r\n            \"value\": \"Colin Beales\"\r\n          }\r\n        ],\r\n        \"links\": [\r\n          {\r\n            \"rel\": \"http://tavis.net/rels/sessions\",\r\n            \"href\": \"https://conferenceapi.azurewebsites.net/speaker/36/sessions\"\r\n          }\r\n        ]\r\n      },\r\n      {\r\n        \"href\": \"https://conferenceapi.azurewebsites.net/speaker/37\",\r\n        \"data\": [\r\n          {\r\n            \"name\": \"Name\",\r\n            \"value\": \"Pedro F&#233;lix\"\r\n          }\r\n        ],\r\n        \"links\": [\r\n          {\r\n            \"rel\": \"http://tavis.net/rels/sessions\",\r\n            \"href\": \"https://conferenceapi.azurewebsites.net/speaker/37/sessions\"\r\n          }\r\n        ]\r\n      },\r\n      {\r\n        \"href\": \"https://conferenceapi.azurewebsites.net/speaker/38\",\r\n        \"data\": [\r\n          {\r\n            \"name\": \"Name\",\r\n            \"value\": \"Tiberiu Covaci\"\r\n          }\r\n        ],\r\n        \"links\": [\r\n          {\r\n            \"rel\": \"http://tavis.net/rels/sessions\",\r\n            \"href\": \"https://conferenceapi.azurewebsites.net/speaker/38/sessions\"\r\n          }\r\n        ]\r\n      },\r\n      {\r\n        \"href\": \"https://conferenceapi.azurewebsites.net/speaker/39\",\r\n        \"data\": [\r\n          {\r\n            \"name\": \"Name\",\r\n            \"value\": \"Gary Short\"\r\n          }\r\n        ],\r\n        \"links\": [\r\n          {\r\n            \"rel\": \"http://tavis.net/rels/sessions\",\r\n            \"href\": \"https://conferenceapi.azurewebsites.net/speaker/39/sessions\"\r\n          }\r\n        ]\r\n      },\r\n      {\r\n        \"href\": \"https://conferenceapi.azurewebsites.net/speaker/40\",\r\n        \"data\": [\r\n          {\r\n            \"name\": \"Name\",\r\n            \"value\": \"Damian Hickey\"\r\n          }\r\n        ],\r\n        \"links\": [\r\n          {\r\n            \"rel\": \"http://tavis.net/rels/sessions\",\r\n            \"href\": \"https://conferenceapi.azurewebsites.net/speaker/40/sessions\"\r\n          }\r\n        ]\r\n      },\r\n      {\r\n        \"href\": \"https://conferenceapi.azurewebsites.net/speaker/41\",\r\n        \"data\": [\r\n          {\r\n            \"name\": \"Name\",\r\n            \"value\": \"Burke Holland\"\r\n          }\r\n        ],\r\n        \"links\": [\r\n          {\r\n            \"rel\": \"http://tavis.net/rels/sessions\",\r\n            \"href\": \"https://conferenceapi.azurewebsites.net/speaker/41/sessions\"\r\n          }\r\n        ]\r\n      },\r\n      {\r\n        \"href\": \"https://conferenceapi.azurewebsites.net/speaker/42\",\r\n        \"data\": [\r\n          {\r\n            \"name\": \"Name\",\r\n            \"value\": \"Mark Rendle\"\r\n          }\r\n        ],\r\n        \"links\": [\r\n          {\r\n            \"rel\": \"http://tavis.net/rels/sessions\",\r\n            \"href\": \"https://conferenceapi.azurewebsites.net/speaker/42/sessions\"\r\n          }\r\n        ]\r\n      },\r\n      {\r\n        \"href\": \"https://conferenceapi.azurewebsites.net/speaker/43\",\r\n        \"data\": [\r\n          {\r\n            \"name\": \"Name\",\r\n            \"value\": \"Miguel Castro\"\r\n          }\r\n        ],\r\n        \"links\": [\r\n          {\r\n            \"rel\": \"http://tavis.net/rels/sessions\",\r\n            \"href\": \"https://conferenceapi.azurewebsites.net/speaker/43/sessions\"\r\n          }\r\n        ]\r\n      },\r\n      {\r\n        \"href\": \"https://conferenceapi.azurewebsites.net/speaker/44\",\r\n        \"data\": [\r\n          {\r\n            \"name\": \"Name\",\r\n            \"value\": \"Tomas Petricek\"\r\n          }\r\n        ],\r\n        \"links\": [\r\n          {\r\n            \"rel\": \"http://tavis.net/rels/sessions\",\r\n            \"href\": \"https://conferenceapi.azurewebsites.net/speaker/44/sessions\"\r\n          }\r\n        ]\r\n      },\r\n      {\r\n        \"href\": \"https://conferenceapi.azurewebsites.net/speaker/45\",\r\n        \"data\": [\r\n          {\r\n            \"name\": \"Name\",\r\n            \"value\": \"Geoff Watts\"\r\n          }\r\n        ],\r\n        \"links\": [\r\n          {\r\n            \"rel\": \"http://tavis.net/rels/sessions\",\r\n            \"href\": \"https://conferenceapi.azurewebsites.net/speaker/45/sessions\"\r\n          }\r\n        ]\r\n      },\r\n      {\r\n        \"href\": \"https://conferenceapi.azurewebsites.net/speaker/46\",\r\n        \"data\": [\r\n          {\r\n            \"name\": \"Name\",\r\n            \"value\": \"Brian A. Randell\"\r\n          }\r\n        ],\r\n        \"links\": [\r\n          {\r\n            \"rel\": \"http://tavis.net/rels/sessions\",\r\n            \"href\": \"https://conferenceapi.azurewebsites.net/speaker/46/sessions\"\r\n          }\r\n        ]\r\n      },\r\n      {\r\n        \"href\": \"https://conferenceapi.azurewebsites.net/speaker/47\",\r\n        \"data\": [\r\n          {\r\n            \"name\": \"Name\",\r\n            \"value\": \"Erlend Oftedal\"\r\n          }\r\n        ],\r\n        \"links\": [\r\n          {\r\n            \"rel\": \"http://tavis.net/rels/sessions\",\r\n            \"href\": \"https://conferenceapi.azurewebsites.net/speaker/47/sessions\"\r\n          }\r\n        ]\r\n      },\r\n      {\r\n        \"href\": \"https://conferenceapi.azurewebsites.net/speaker/48\",\r\n        \"data\": [\r\n          {\r\n            \"name\": \"Name\",\r\n            \"value\": \"James Hughes\"\r\n          }\r\n        ],\r\n        \"links\": [\r\n          {\r\n            \"rel\": \"http://tavis.net/rels/sessions\",\r\n            \"href\": \"https://conferenceapi.azurewebsites.net/speaker/48/sessions\"\r\n          }\r\n        ]\r\n      },\r\n      {\r\n        \"href\": \"https://conferenceapi.azurewebsites.net/speaker/49\",\r\n        \"data\": [\r\n          {\r\n            \"name\": \"Name\",\r\n            \"value\": \"Tomas Jansson\"\r\n          }\r\n        ],\r\n        \"links\": [\r\n          {\r\n            \"rel\": \"http://tavis.net/rels/sessions\",\r\n            \"href\": \"https://conferenceapi.azurewebsites.net/speaker/49/sessions\"\r\n          }\r\n        ]\r\n      },\r\n      {\r\n        \"href\": \"https://conferenceapi.azurewebsites.net/speaker/50\",\r\n        \"data\": [\r\n          {\r\n            \"name\": \"Name\",\r\n            \"value\": \"G&#225;sp&#225;r Nagy\"\r\n          }\r\n        ],\r\n        \"links\": [\r\n          {\r\n            \"rel\": \"http://tavis.net/rels/sessions\",\r\n            \"href\": \"https://conferenceapi.azurewebsites.net/speaker/50/sessions\"\r\n          }\r\n        ]\r\n      },\r\n      {\r\n        \"href\": \"https://conferenceapi.azurewebsites.net/speaker/51\",\r\n        \"data\": [\r\n          {\r\n            \"name\": \"Name\",\r\n            \"value\": \"Andy Clymer\"\r\n          }\r\n        ],\r\n        \"links\": [\r\n          {\r\n            \"rel\": \"http://tavis.net/rels/sessions\",\r\n            \"href\": \"https://conferenceapi.azurewebsites.net/speaker/51/sessions\"\r\n          }\r\n        ]\r\n      },\r\n      {\r\n        \"href\": \"https://conferenceapi.azurewebsites.net/speaker/52\",\r\n        \"data\": [\r\n          {\r\n            \"name\": \"Name\",\r\n            \"value\": \"Carl Franklin\"\r\n          }\r\n        ],\r\n        \"links\": [\r\n          {\r\n            \"rel\": \"http://tavis.net/rels/sessions\",\r\n            \"href\": \"https://conferenceapi.azurewebsites.net/speaker/52/sessions\"\r\n          }\r\n        ]\r\n      },\r\n      {\r\n        \"href\": \"https://conferenceapi.azurewebsites.net/speaker/53\",\r\n        \"data\": [\r\n          {\r\n            \"name\": \"Name\",\r\n            \"value\": \"Richard Campbell\"\r\n          }\r\n        ],\r\n        \"links\": [\r\n          {\r\n            \"rel\": \"http://tavis.net/rels/sessions\",\r\n            \"href\": \"https://conferenceapi.azurewebsites.net/speaker/53/sessions\"\r\n          }\r\n        ]\r\n      },\r\n      {\r\n        \"href\": \"https://conferenceapi.azurewebsites.net/speaker/54\",\r\n        \"data\": [\r\n          {\r\n            \"name\": \"Name\",\r\n            \"value\": \"Paul Stack\"\r\n          }\r\n        ],\r\n        \"links\": [\r\n          {\r\n            \"rel\": \"http://tavis.net/rels/sessions\",\r\n            \"href\": \"https://conferenceapi.azurewebsites.net/speaker/54/sessions\"\r\n          }\r\n        ]\r\n      },\r\n      {\r\n        \"href\": \"https://conferenceapi.azurewebsites.net/speaker/55\",\r\n        \"data\": [\r\n          {\r\n            \"name\": \"Name\",\r\n            \"value\": \"Marcin Floryan\"\r\n          }\r\n        ],\r\n        \"links\": [\r\n          {\r\n            \"rel\": \"http://tavis.net/rels/sessions\",\r\n            \"href\": \"https://conferenceapi.azurewebsites.net/speaker/55/sessions\"\r\n          }\r\n        ]\r\n      },\r\n      {\r\n        \"href\": \"https://conferenceapi.azurewebsites.net/speaker/56\",\r\n        \"data\": [\r\n          {\r\n            \"name\": \"Name\",\r\n            \"value\": \"Enrico Campidoglio\"\r\n          }\r\n        ],\r\n        \"links\": [\r\n          {\r\n            \"rel\": \"http://tavis.net/rels/sessions\",\r\n            \"href\": \"https://conferenceapi.azurewebsites.net/speaker/56/sessions\"\r\n          }\r\n        ]\r\n      },\r\n      {\r\n        \"href\": \"https://conferenceapi.azurewebsites.net/speaker/57\",\r\n        \"data\": [\r\n          {\r\n            \"name\": \"Name\",\r\n            \"value\": \"Justin Rusbatch\"\r\n          }\r\n        ],\r\n        \"links\": [\r\n          {\r\n            \"rel\": \"http://tavis.net/rels/sessions\",\r\n            \"href\": \"https://conferenceapi.azurewebsites.net/speaker/57/sessions\"\r\n          }\r\n        ]\r\n      },\r\n      {\r\n        \"href\": \"https://conferenceapi.azurewebsites.net/speaker/58\",\r\n        \"data\": [\r\n          {\r\n            \"name\": \"Name\",\r\n            \"value\": \"Matt Ellis\"\r\n          }\r\n        ],\r\n        \"links\": [\r\n          {\r\n            \"rel\": \"http://tavis.net/rels/sessions\",\r\n            \"href\": \"https://conferenceapi.azurewebsites.net/speaker/58/sessions\"\r\n          }\r\n        ]\r\n      },\r\n      {\r\n        \"href\": \"https://conferenceapi.azurewebsites.net/speaker/59\",\r\n        \"data\": [\r\n          {\r\n            \"name\": \"Name\",\r\n            \"value\": \"Christian Weyer\"\r\n          }\r\n        ],\r\n        \"links\": [\r\n          {\r\n            \"rel\": \"http://tavis.net/rels/sessions\",\r\n            \"href\": \"https://conferenceapi.azurewebsites.net/speaker/59/sessions\"\r\n          }\r\n        ]\r\n      },\r\n      {\r\n        \"href\": \"https://conferenceapi.azurewebsites.net/speaker/60\",\r\n        \"data\": [\r\n          {\r\n            \"name\": \"Name\",\r\n            \"value\": \"JP Toto\"\r\n          }\r\n        ],\r\n        \"links\": [\r\n          {\r\n            \"rel\": \"http://tavis.net/rels/sessions\",\r\n            \"href\": \"https://conferenceapi.azurewebsites.net/speaker/60/sessions\"\r\n          }\r\n        ]\r\n      },\r\n      {\r\n        \"href\": \"https://conferenceapi.azurewebsites.net/speaker/61\",\r\n        \"data\": [\r\n          {\r\n            \"name\": \"Name\",\r\n            \"value\": \"Mahesh Krishnan\"\r\n          }\r\n        ],\r\n        \"links\": [\r\n          {\r\n            \"rel\": \"http://tavis.net/rels/sessions\",\r\n            \"href\": \"https://conferenceapi.azurewebsites.net/speaker/61/sessions\"\r\n          }\r\n        ]\r\n      },\r\n      {\r\n        \"href\": \"https://conferenceapi.azurewebsites.net/speaker/62\",\r\n        \"data\": [\r\n          {\r\n            \"name\": \"Name\",\r\n            \"value\": \"Ashic Mahtab\"\r\n          }\r\n        ],\r\n        \"links\": [\r\n          {\r\n            \"rel\": \"http://tavis.net/rels/sessions\",\r\n            \"href\": \"https://conferenceapi.azurewebsites.net/speaker/62/sessions\"\r\n          }\r\n        ]\r\n      },\r\n      {\r\n        \"href\": \"https://conferenceapi.azurewebsites.net/speaker/63\",\r\n        \"data\": [\r\n          {\r\n            \"name\": \"Name\",\r\n            \"value\": \"Scott Wlaschin\"\r\n          }\r\n        ],\r\n        \"links\": [\r\n          {\r\n            \"rel\": \"http://tavis.net/rels/sessions\",\r\n            \"href\": \"https://conferenceapi.azurewebsites.net/speaker/63/sessions\"\r\n          }\r\n        ]\r\n      },\r\n      {\r\n        \"href\": \"https://conferenceapi.azurewebsites.net/speaker/64\",\r\n        \"data\": [\r\n          {\r\n            \"name\": \"Name\",\r\n            \"value\": \"Laurent Bugnion\"\r\n          }\r\n        ],\r\n        \"links\": [\r\n          {\r\n            \"rel\": \"http://tavis.net/rels/sessions\",\r\n            \"href\": \"https://conferenceapi.azurewebsites.net/speaker/64/sessions\"\r\n          }\r\n        ]\r\n      },\r\n      {\r\n        \"href\": \"https://conferenceapi.azurewebsites.net/speaker/65\",\r\n        \"data\": [\r\n          {\r\n            \"name\": \"Name\",\r\n            \"value\": \"Tim G. Thomas\"\r\n          }\r\n        ],\r\n        \"links\": [\r\n          {\r\n            \"rel\": \"http://tavis.net/rels/sessions\",\r\n            \"href\": \"https://conferenceapi.azurewebsites.net/speaker/65/sessions\"\r\n          }\r\n        ]\r\n      },\r\n      {\r\n        \"href\": \"https://conferenceapi.azurewebsites.net/speaker/66\",\r\n        \"data\": [\r\n          {\r\n            \"name\": \"Name\",\r\n            \"value\": \"Richard Astbury\"\r\n          }\r\n        ],\r\n        \"links\": [\r\n          {\r\n            \"rel\": \"http://tavis.net/rels/sessions\",\r\n            \"href\": \"https://conferenceapi.azurewebsites.net/speaker/66/sessions\"\r\n          }\r\n        ]\r\n      },\r\n      {\r\n        \"href\": \"https://conferenceapi.azurewebsites.net/speaker/67\",\r\n        \"data\": [\r\n          {\r\n            \"name\": \"Name\",\r\n            \"value\": \"Hubert Matthews\"\r\n          }\r\n        ],\r\n        \"links\": [\r\n          {\r\n            \"rel\": \"http://tavis.net/rels/sessions\",\r\n            \"href\": \"https://conferenceapi.azurewebsites.net/speaker/67/sessions\"\r\n          }\r\n        ]\r\n      },\r\n      {\r\n        \"href\": \"https://conferenceapi.azurewebsites.net/speaker/68\",\r\n        \"data\": [\r\n          {\r\n            \"name\": \"Name\",\r\n            \"value\": \"Dror Helper\"\r\n          }\r\n        ],\r\n        \"links\": [\r\n          {\r\n            \"rel\": \"http://tavis.net/rels/sessions\",\r\n            \"href\": \"https://conferenceapi.azurewebsites.net/speaker/68/sessions\"\r\n          }\r\n        ]\r\n      },\r\n      {\r\n        \"href\": \"https://conferenceapi.azurewebsites.net/speaker/69\",\r\n        \"data\": [\r\n          {\r\n            \"name\": \"Name\",\r\n            \"value\": \"Simon Brown\"\r\n          }\r\n        ],\r\n        \"links\": [\r\n          {\r\n            \"rel\": \"http://tavis.net/rels/sessions\",\r\n            \"href\": \"https://conferenceapi.azurewebsites.net/speaker/69/sessions\"\r\n          }\r\n        ]\r\n      },\r\n      {\r\n        \"href\": \"https://conferenceapi.azurewebsites.net/speaker/70\",\r\n        \"data\": [\r\n          {\r\n            \"name\": \"Name\",\r\n            \"value\": \"Russ Miles\"\r\n          }\r\n        ],\r\n        \"links\": [\r\n          {\r\n            \"rel\": \"http://tavis.net/rels/sessions\",\r\n            \"href\": \"https://conferenceapi.azurewebsites.net/speaker/70/sessions\"\r\n          }\r\n        ]\r\n      },\r\n      {\r\n        \"href\": \"https://conferenceapi.azurewebsites.net/speaker/71\",\r\n        \"data\": [\r\n          {\r\n            \"name\": \"Name\",\r\n            \"value\": \"Christian Hassa\"\r\n          }\r\n        ],\r\n        \"links\": [\r\n          {\r\n            \"rel\": \"http://tavis.net/rels/sessions\",\r\n            \"href\": \"https://conferenceapi.azurewebsites.net/speaker/71/sessions\"\r\n          }\r\n        ]\r\n      },\r\n      {\r\n        \"href\": \"https://conferenceapi.azurewebsites.net/speaker/72\",\r\n        \"data\": [\r\n          {\r\n            \"name\": \"Name\",\r\n            \"value\": \"Christian Wenz\"\r\n          }\r\n        ],\r\n        \"links\": [\r\n          {\r\n            \"rel\": \"http://tavis.net/rels/sessions\",\r\n            \"href\": \"https://conferenceapi.azurewebsites.net/speaker/72/sessions\"\r\n          }\r\n        ]\r\n      },\r\n      {\r\n        \"href\": \"https://conferenceapi.azurewebsites.net/speaker/73\",\r\n        \"data\": [\r\n          {\r\n            \"name\": \"Name\",\r\n            \"value\": \"Mike Taulty\"\r\n          }\r\n        ],\r\n        \"links\": [\r\n          {\r\n            \"rel\": \"http://tavis.net/rels/sessions\",\r\n            \"href\": \"https://conferenceapi.azurewebsites.net/speaker/73/sessions\"\r\n          }\r\n        ]\r\n      },\r\n      {\r\n        \"href\": \"https://conferenceapi.azurewebsites.net/speaker/74\",\r\n        \"data\": [\r\n          {\r\n            \"name\": \"Name\",\r\n            \"value\": \"Andy Wigley\"\r\n          }\r\n        ],\r\n        \"links\": [\r\n          {\r\n            \"rel\": \"http://tavis.net/rels/sessions\",\r\n            \"href\": \"https://conferenceapi.azurewebsites.net/speaker/74/sessions\"\r\n          }\r\n        ]\r\n      },\r\n      {\r\n        \"href\": \"https://conferenceapi.azurewebsites.net/speaker/75\",\r\n        \"data\": [\r\n          {\r\n            \"name\": \"Name\",\r\n            \"value\": \"Martin Beeby\"\r\n          }\r\n        ],\r\n        \"links\": [\r\n          {\r\n            \"rel\": \"http://tavis.net/rels/sessions\",\r\n            \"href\": \"https://conferenceapi.azurewebsites.net/speaker/75/sessions\"\r\n          }\r\n        ]\r\n      },\r\n      {\r\n        \"href\": \"https://conferenceapi.azurewebsites.net/speaker/76\",\r\n        \"data\": [\r\n          {\r\n            \"name\": \"Name\",\r\n            \"value\": \"Mark Seemann\"\r\n          }\r\n        ],\r\n        \"links\": [\r\n          {\r\n            \"rel\": \"http://tavis.net/rels/sessions\",\r\n            \"href\": \"https://conferenceapi.azurewebsites.net/speaker/76/sessions\"\r\n          }\r\n        ]\r\n      },\r\n      {\r\n        \"href\": \"https://conferenceapi.azurewebsites.net/speaker/77\",\r\n        \"data\": [\r\n          {\r\n            \"name\": \"Name\",\r\n            \"value\": \"Ben Hall\"\r\n          }\r\n        ],\r\n        \"links\": [\r\n          {\r\n            \"rel\": \"http://tavis.net/rels/sessions\",\r\n            \"href\": \"https://conferenceapi.azurewebsites.net/speaker/77/sessions\"\r\n          }\r\n        ]\r\n      },\r\n      {\r\n        \"href\": \"https://conferenceapi.azurewebsites.net/speaker/78\",\r\n        \"data\": [\r\n          {\r\n            \"name\": \"Name\",\r\n            \"value\": \"Bj&#248;rn Einar Bjartnes\"\r\n          }\r\n        ],\r\n        \"links\": [\r\n          {\r\n            \"rel\": \"http://tavis.net/rels/sessions\",\r\n            \"href\": \"https://conferenceapi.azurewebsites.net/speaker/78/sessions\"\r\n          }\r\n        ]\r\n      },\r\n      {\r\n        \"href\": \"https://conferenceapi.azurewebsites.net/speaker/79\",\r\n        \"data\": [\r\n          {\r\n            \"name\": \"Name\",\r\n            \"value\": \"Brandon Satrom\"\r\n          }\r\n        ],\r\n        \"links\": [\r\n          {\r\n            \"rel\": \"http://tavis.net/rels/sessions\",\r\n            \"href\": \"https://conferenceapi.azurewebsites.net/speaker/79/sessions\"\r\n          }\r\n        ]\r\n      },\r\n      {\r\n        \"href\": \"https://conferenceapi.azurewebsites.net/speaker/80\",\r\n        \"data\": [\r\n          {\r\n            \"name\": \"Name\",\r\n            \"value\": \"Jeremy D. Miller\"\r\n          }\r\n        ],\r\n        \"links\": [\r\n          {\r\n            \"rel\": \"http://tavis.net/rels/sessions\",\r\n            \"href\": \"https://conferenceapi.azurewebsites.net/speaker/80/sessions\"\r\n          }\r\n        ]\r\n      },\r\n      {\r\n        \"href\": \"https://conferenceapi.azurewebsites.net/speaker/81\",\r\n        \"data\": [\r\n          {\r\n            \"name\": \"Name\",\r\n            \"value\": \"Simon Elliston Ball\"\r\n          }\r\n        ],\r\n        \"links\": [\r\n          {\r\n            \"rel\": \"http://tavis.net/rels/sessions\",\r\n            \"href\": \"https://conferenceapi.azurewebsites.net/speaker/81/sessions\"\r\n          }\r\n        ]\r\n      },\r\n      {\r\n        \"href\": \"https://conferenceapi.azurewebsites.net/speaker/82\",\r\n        \"data\": [\r\n          {\r\n            \"name\": \"Name\",\r\n            \"value\": \"Einar H&#248;st\"\r\n          }\r\n        ],\r\n        \"links\": [\r\n          {\r\n            \"rel\": \"http://tavis.net/rels/sessions\",\r\n            \"href\": \"https://conferenceapi.azurewebsites.net/speaker/82/sessions\"\r\n          }\r\n        ]\r\n      },\r\n      {\r\n        \"href\": \"https://conferenceapi.azurewebsites.net/speaker/83\",\r\n        \"data\": [\r\n          {\r\n            \"name\": \"Name\",\r\n            \"value\": \"Jonas Winje\"\r\n          }\r\n        ],\r\n        \"links\": [\r\n          {\r\n            \"rel\": \"http://tavis.net/rels/sessions\",\r\n            \"href\": \"https://conferenceapi.azurewebsites.net/speaker/83/sessions\"\r\n          }\r\n        ]\r\n      },\r\n      {\r\n        \"href\": \"https://conferenceapi.azurewebsites.net/speaker/84\",\r\n        \"data\": [\r\n          {\r\n            \"name\": \"Name\",\r\n            \"value\": \"Steve Sanderson\"\r\n          }\r\n        ],\r\n        \"links\": [\r\n          {\r\n            \"rel\": \"http://tavis.net/rels/sessions\",\r\n            \"href\": \"https://conferenceapi.azurewebsites.net/speaker/84/sessions\"\r\n          }\r\n        ]\r\n      },\r\n      {\r\n        \"href\": \"https://conferenceapi.azurewebsites.net/speaker/85\",\r\n        \"data\": [\r\n          {\r\n            \"name\": \"Name\",\r\n            \"value\": \"Richard Garside\"\r\n          }\r\n        ],\r\n        \"links\": [\r\n          {\r\n            \"rel\": \"http://tavis.net/rels/sessions\",\r\n            \"href\": \"https://conferenceapi.azurewebsites.net/speaker/85/sessions\"\r\n          }\r\n        ]\r\n      },\r\n      {\r\n        \"href\": \"https://conferenceapi.azurewebsites.net/speaker/86\",\r\n        \"data\": [\r\n          {\r\n            \"name\": \"Name\",\r\n            \"value\": \"Bryan Hunter\"\r\n          }\r\n        ],\r\n        \"links\": [\r\n          {\r\n            \"rel\": \"http://tavis.net/rels/sessions\",\r\n            \"href\": \"https://conferenceapi.azurewebsites.net/speaker/86/sessions\"\r\n          }\r\n        ]\r\n      },\r\n      {\r\n        \"href\": \"https://conferenceapi.azurewebsites.net/speaker/87\",\r\n        \"data\": [\r\n          {\r\n            \"name\": \"Name\",\r\n            \"value\": \"Paul Betts\"\r\n          }\r\n        ],\r\n        \"links\": [\r\n          {\r\n            \"rel\": \"http://tavis.net/rels/sessions\",\r\n            \"href\": \"https://conferenceapi.azurewebsites.net/speaker/87/sessions\"\r\n          }\r\n        ]\r\n      },\r\n      {\r\n        \"href\": \"https://conferenceapi.azurewebsites.net/speaker/88\",\r\n        \"data\": [\r\n          {\r\n            \"name\": \"Name\",\r\n            \"value\": \"Glenn Block\"\r\n          }\r\n        ],\r\n        \"links\": [\r\n          {\r\n            \"rel\": \"http://tavis.net/rels/sessions\",\r\n            \"href\": \"https://conferenceapi.azurewebsites.net/speaker/88/sessions\"\r\n          }\r\n        ]\r\n      },\r\n      {\r\n        \"href\": \"https://conferenceapi.azurewebsites.net/speaker/89\",\r\n        \"data\": [\r\n          {\r\n            \"name\": \"Name\",\r\n            \"value\": \"Brock Allen\"\r\n          }\r\n        ],\r\n        \"links\": [\r\n          {\r\n            \"rel\": \"http://tavis.net/rels/sessions\",\r\n            \"href\": \"https://conferenceapi.azurewebsites.net/speaker/89/sessions\"\r\n          }\r\n        ]\r\n      },\r\n      {\r\n        \"href\": \"https://conferenceapi.azurewebsites.net/speaker/90\",\r\n        \"data\": [\r\n          {\r\n            \"name\": \"Name\",\r\n            \"value\": \"Rob Ashton\"\r\n          }\r\n        ],\r\n        \"links\": [\r\n          {\r\n            \"rel\": \"http://tavis.net/rels/sessions\",\r\n            \"href\": \"https://conferenceapi.azurewebsites.net/speaker/90/sessions\"\r\n          }\r\n        ]\r\n      },\r\n      {\r\n        \"href\": \"https://conferenceapi.azurewebsites.net/speaker/91\",\r\n        \"data\": [\r\n          {\r\n            \"name\": \"Name\",\r\n            \"value\": \"Liam Westley\"\r\n          }\r\n        ],\r\n        \"links\": [\r\n          {\r\n            \"rel\": \"http://tavis.net/rels/sessions\",\r\n            \"href\": \"https://conferenceapi.azurewebsites.net/speaker/91/sessions\"\r\n          }\r\n        ]\r\n      },\r\n      {\r\n        \"href\": \"https://conferenceapi.azurewebsites.net/speaker/92\",\r\n        \"data\": [\r\n          {\r\n            \"name\": \"Name\",\r\n            \"value\": \"Gael Fraiteur\"\r\n          }\r\n        ],\r\n        \"links\": [\r\n          {\r\n            \"rel\": \"http://tavis.net/rels/sessions\",\r\n            \"href\": \"https://conferenceapi.azurewebsites.net/speaker/92/sessions\"\r\n          }\r\n        ]\r\n      },\r\n      {\r\n        \"href\": \"https://conferenceapi.azurewebsites.net/speaker/93\",\r\n        \"data\": [\r\n          {\r\n            \"name\": \"Name\",\r\n            \"value\": \"Matthew Podwysocki\"\r\n          }\r\n        ],\r\n        \"links\": [\r\n          {\r\n            \"rel\": \"http://tavis.net/rels/sessions\",\r\n            \"href\": \"https://conferenceapi.azurewebsites.net/speaker/93/sessions\"\r\n          }\r\n        ]\r\n      },\r\n      {\r\n        \"href\": \"https://conferenceapi.azurewebsites.net/speaker/94\",\r\n        \"data\": [\r\n          {\r\n            \"name\": \"Name\",\r\n            \"value\": \"Daniel Roth\"\r\n          }\r\n        ],\r\n        \"links\": [\r\n          {\r\n            \"rel\": \"http://tavis.net/rels/sessions\",\r\n            \"href\": \"https://conferenceapi.azurewebsites.net/speaker/94/sessions\"\r\n          }\r\n        ]\r\n      },\r\n      {\r\n        \"href\": \"https://conferenceapi.azurewebsites.net/speaker/95\",\r\n        \"data\": [\r\n          {\r\n            \"name\": \"Name\",\r\n            \"value\": \"Darrel Miller\"\r\n          }\r\n        ],\r\n        \"links\": [\r\n          {\r\n            \"rel\": \"http://tavis.net/rels/sessions\",\r\n            \"href\": \"https://conferenceapi.azurewebsites.net/speaker/95/sessions\"\r\n          }\r\n        ]\r\n      },\r\n      {\r\n        \"href\": \"https://conferenceapi.azurewebsites.net/speaker/96\",\r\n        \"data\": [\r\n          {\r\n            \"name\": \"Name\",\r\n            \"value\": \"Gojko Adzic\"\r\n          }\r\n        ],\r\n        \"links\": [\r\n          {\r\n            \"rel\": \"http://tavis.net/rels/sessions\",\r\n            \"href\": \"https://conferenceapi.azurewebsites.net/speaker/96/sessions\"\r\n          }\r\n        ]\r\n      },\r\n      {\r\n        \"href\": \"https://conferenceapi.azurewebsites.net/speaker/97\",\r\n        \"data\": [\r\n          {\r\n            \"name\": \"Name\",\r\n            \"value\": \"Ingo Rammer\"\r\n          }\r\n        ],\r\n        \"links\": [\r\n          {\r\n            \"rel\": \"http://tavis.net/rels/sessions\",\r\n            \"href\": \"https://conferenceapi.azurewebsites.net/speaker/97/sessions\"\r\n          }\r\n        ]\r\n      },\r\n      {\r\n        \"href\": \"https://conferenceapi.azurewebsites.net/speaker/98\",\r\n        \"data\": [\r\n          {\r\n            \"name\": \"Name\",\r\n            \"value\": \"Jon McCoy\"\r\n          }\r\n        ],\r\n        \"links\": [\r\n          {\r\n            \"rel\": \"http://tavis.net/rels/sessions\",\r\n            \"href\": \"https://conferenceapi.azurewebsites.net/speaker/98/sessions\"\r\n          }\r\n        ]\r\n      },\r\n      {\r\n        \"href\": \"https://conferenceapi.azurewebsites.net/speaker/99\",\r\n        \"data\": [\r\n          {\r\n            \"name\": \"Name\",\r\n            \"value\": \"Karl Krukow\"\r\n          }\r\n        ],\r\n        \"links\": [\r\n          {\r\n            \"rel\": \"http://tavis.net/rels/sessions\",\r\n            \"href\": \"https://conferenceapi.azurewebsites.net/speaker/99/sessions\"\r\n          }\r\n        ]\r\n      }\r\n    ],\r\n    \"queries\": [],\r\n    \"template\": {\r\n      \"data\": []\r\n    }\r\n  }\r\n}}"
                                }
                            ]
                        },
                        "text/html": [
                            "<table>",
                            "<tr><th>ReturnCode</th><th>Response</th></tr>",
                            "<tr><td>0</td><td>{&quot;response&quot;:{&quot;status&quot;:{&quot;http&quot;:{&quot;code&quot;:200,&quot;description&quot;:&quot;OK&quot;}},&quot;headers&quot;:{&quot;Cache-Control&quot;:&quot;no-cache&quot;,&quot;Date&quot;:&quot;Sat, 19 Aug 2023 16:29:26 GMT&quot;,&quot;Pragma&quot;:&quot;no-cache&quot;,&quot;Content-Length&quot;:&quot;40606&quot;,&quot;Content-Type&quot;:&quot;application\\/vnd.collection+json&quot;,&quot;Expires&quot;:&quot;-1&quot;,&quot;Set-Cookie&quot;:&quot;ARRAffinity=8fc238af3238d4d99f33390b9ab0da11f97e34757d0c5fe645fa69381d77e39d;Path=\\/;HttpOnly;Secure;Domain=conferenceapi.azurewebsites.net&quot;,&quot;Set-Cookie&quot;:&quot;ARRAffinitySameSite=8fc238af3238d4d99f33390b9ab0da11f97e34757d0c5fe645fa69381d77e39d;Path=\\/;HttpOnly;SameSite=None;Secure;Domain=conferenceapi.azurewebsites.net&quot;,&quot;X-AspNet-Version&quot;:&quot;4.0.30319&quot;,&quot;X-Powered-By&quot;:&quot;ASP.NET&quot;}},&quot;result&quot;:{\r\n  &quot;collection&quot;: {\r\n    &quot;version&quot;: &quot;1.0&quot;,\r\n    &quot;href&quot;: &quot;https://conferenceapi.azurewebsites.net:443/speakers&quot;,\r\n    &quot;links&quot;: [],\r\n    &quot;items&quot;: [\r\n      {\r\n        &quot;href&quot;: &quot;https://conferenceapi.azurewebsites.net/speaker/1&quot;,\r\n        &quot;data&quot;: [\r\n          {\r\n            &quot;name&quot;: &quot;Name&quot;,\r\n            &quot;value&quot;: &quot;Scott Guthrie&quot;\r\n          }\r\n        ],\r\n        &quot;links&quot;: [\r\n          {\r\n            &quot;rel&quot;: &quot;http://tavis.net/rels/sessions&quot;,\r\n            &quot;href&quot;: &quot;https://conferenceapi.azurewebsites.net/speaker/1/sessions&quot;\r\n          }\r\n        ]\r\n      },\r\n      {\r\n        &quot;href&quot;: &quot;https://conferenceapi.azurewebsites.net/speaker/2&quot;,\r\n        &quot;data&quot;: [\r\n          {\r\n            &quot;name&quot;: &quot;Name&quot;,\r\n            &quot;value&quot;: &quot;Don Syme&quot;\r\n          }\r\n        ],\r\n        &quot;links&quot;: [\r\n          {\r\n            &quot;rel&quot;: &quot;http://tavis.net/rels/sessions&quot;,\r\n            &quot;href&quot;: &quot;https://conferenceapi.azurewebsites.net/speaker/2/sessions&quot;\r\n          }\r\n        ]\r\n      },\r\n      {\r\n        &quot;href&quot;: &quot;https://conferenceapi.azurewebsites.net/speaker/3&quot;,\r\n        &quot;data&quot;: [\r\n          {\r\n            &quot;name&quot;: &quot;Name&quot;,\r\n            &quot;value&quot;: &quot;James Lewis&quot;\r\n          }\r\n        ],\r\n        &quot;links&quot;: [\r\n          {\r\n            &quot;rel&quot;: &quot;http://tavis.net/rels/sessions&quot;,\r\n            &quot;href&quot;: &quot;https://conferenceapi.azurewebsites.net/speaker/3/sessions&quot;\r\n          }\r\n        ]\r\n      },\r\n      {\r\n        &quot;href&quot;: &quot;https://conferenceapi.azurewebsites.net/speaker/4&quot;,\r\n        &quot;data&quot;: [\r\n          {\r\n            &quot;name&quot;: &quot;Name&quot;,\r\n            &quot;value&quot;: &quot;Jessie Shternshus&quot;\r\n          }\r\n        ],\r\n        &quot;links&quot;: [\r\n          {\r\n            &quot;rel&quot;: &quot;http://tavis.net/rels/sessions&quot;,\r\n            &quot;href&quot;: &quot;https://conferenceapi.azurewebsites.net/speaker/4/sessions&quot;\r\n          }\r\n        ]\r\n      },\r\n      {\r\n        &quot;href&quot;: &quot;https://conferenceapi.azurewebsites.net/speaker/5&quot;,\r\n        &quot;data&quot;: [\r\n          {\r\n            &quot;name&quot;: &quot;Name&quot;,\r\n            &quot;value&quot;: &quot;Peter Bacon Darwin&quot;\r\n          }\r\n        ],\r\n        &quot;links&quot;: [\r\n          {\r\n            &quot;rel&quot;: &quot;http://tavis.net/rels/sessions&quot;,\r\n            &quot;href&quot;: &quot;https://conferenceapi.azurewebsites.net/speaker/5/sessions&quot;\r\n          }\r\n        ]\r\n      },\r\n      {\r\n        &quot;href&quot;: &quot;https://conferenceapi.azurewebsites.net/speaker/6&quot;,\r\n        &quot;data&quot;: [\r\n          {\r\n            &quot;name&quot;: &quot;Name&quot;,\r\n            &quot;value&quot;: &quot;Jon Skeet&quot;\r\n          }\r\n        ],\r\n        &quot;links&quot;: [\r\n          {\r\n            &quot;rel&quot;: &quot;http://tavis.net/rels/sessions&quot;,\r\n            &quot;href&quot;: &quot;https://conferenceapi.azurewebsites.net/speaker/6/sessions&quot;\r\n          }\r\n        ]\r\n      },\r\n      {\r\n        &quot;href&quot;: &quot;https://conferenceapi.azurewebsites.net/speaker/7&quot;,\r\n        &quot;data&quot;: [\r\n          {\r\n            &quot;name&quot;: &quot;Name&quot;,\r\n            &quot;value&quot;: &quot;Dominick Baier&quot;\r\n          }\r\n        ],\r\n        &quot;links&quot;: [\r\n          {\r\n            &quot;rel&quot;: &quot;http://tavis.net/rels/sessions&quot;,\r\n            &quot;href&quot;: &quot;https://conferenceapi.azurewebsites.net/speaker/7/sessions&quot;\r\n          }\r\n        ]\r\n      },\r\n      {\r\n        &quot;href&quot;: &quot;https://conferenceapi.azurewebsites.net/speaker/8&quot;,\r\n        &quot;data&quot;: [\r\n          {\r\n            &quot;name&quot;: &quot;Name&quot;,\r\n            &quot;value&quot;: &quot;Craig Dunn&quot;\r\n          }\r\n        ],\r\n        &quot;links&quot;: [\r\n          {\r\n            &quot;rel&quot;: &quot;http://tavis.net/rels/sessions&quot;,\r\n            &quot;href&quot;: &quot;https://conferenceapi.azurewebsites.net/speaker/8/sessions&quot;\r\n          }\r\n        ]\r\n      },\r\n      {\r\n        &quot;href&quot;: &quot;https://conferenceapi.azurewebsites.net/speaker/9&quot;,\r\n        &quot;data&quot;: [\r\n          {\r\n            &quot;name&quot;: &quot;Name&quot;,\r\n            &quot;value&quot;: &quot;Jez Humble&quot;\r\n          }\r\n        ],\r\n        &quot;links&quot;: [\r\n          {\r\n            &quot;rel&quot;: &quot;http://tavis.net/rels/sessions&quot;,\r\n            &quot;href&quot;: &quot;https://conferenceapi.azurewebsites.net/speaker/9/sessions&quot;\r\n          }\r\n        ]\r\n      },\r\n      {\r\n        &quot;href&quot;: &quot;https://conferenceapi.azurewebsites.net/speaker/10&quot;,\r\n        &quot;data&quot;: [\r\n          {\r\n            &quot;name&quot;: &quot;Name&quot;,\r\n            &quot;value&quot;: &quot;Axel Rauschmayer&quot;\r\n          }\r\n        ],\r\n        &quot;links&quot;: [\r\n          {\r\n            &quot;rel&quot;: &quot;http://tavis.net/rels/sessions&quot;,\r\n            &quot;href&quot;: &quot;https://conferenceapi.azurewebsites.net/speaker/10/sessions&quot;\r\n          }\r\n        ]\r\n      },\r\n      {\r\n        &quot;href&quot;: &quot;https://conferenceapi.azurewebsites.net/speaker/11&quot;,\r\n        &quot;data&quot;: [\r\n          {\r\n            &quot;name&quot;: &quot;Name&quot;,\r\n            &quot;value&quot;: &quot;Phillip Trelford&quot;\r\n          }\r\n        ],\r\n        &quot;links&quot;: [\r\n          {\r\n            &quot;rel&quot;: &quot;http://tavis.net/rels/sessions&quot;,\r\n            &quot;href&quot;: &quot;https://conferenceapi.azurewebsites.net/speaker/11/sessions&quot;\r\n          }\r\n        ]\r\n      },\r\n      {\r\n        &quot;href&quot;: &quot;https://conferenceapi.azurewebsites.net/speaker/12&quot;,\r\n        &quot;data&quot;: [\r\n          {\r\n            &quot;name&quot;: &quot;Name&quot;,\r\n            &quot;value&quot;: &quot;Mike Cohn&quot;\r\n          }\r\n        ],\r\n        &quot;links&quot;: [\r\n          {\r\n            &quot;rel&quot;: &quot;http://tavis.net/rels/sessions&quot;,\r\n            &quot;href&quot;: &quot;https://conferenceapi.azurewebsites.net/speaker/12/sessions&quot;\r\n          }\r\n        ]\r\n      },\r\n      {\r\n        &quot;href&quot;: &quot;https://conferenceapi.azurewebsites.net/speaker/13&quot;,\r\n        &quot;data&quot;: [\r\n          {\r\n            &quot;name&quot;: &quot;Name&quot;,\r\n            &quot;value&quot;: &quot;Robert C. Martin&quot;\r\n          }\r\n        ],\r\n        &quot;links&quot;: [\r\n          {\r\n            &quot;rel&quot;: &quot;http://tavis.net/rels/sessions&quot;,\r\n            &quot;href&quot;: &quot;https://conferenceapi.azurewebsites.net/speaker/13/sessions&quot;\r\n          }\r\n        ]\r\n      },\r\n      {\r\n        &quot;href&quot;: &quot;https://conferenceapi.azurewebsites.net/speaker/14&quot;,\r\n        &quot;data&quot;: [\r\n          {\r\n            &quot;name&quot;: &quot;Name&quot;,\r\n            &quot;value&quot;: &quot;Jafar Husain&quot;\r\n          }\r\n        ],\r\n        &quot;links&quot;: [\r\n          {\r\n            &quot;rel&quot;: &quot;http://tavis.net/rels/sessions&quot;,\r\n            &quot;href&quot;: &quot;https://conferenceapi.azurewebsites.net/speaker/14/sessions&quot;\r\n          }\r\n        ]\r\n      },\r\n      {\r\n        &quot;href&quot;: &quot;https://conferenceapi.azurewebsites.net/speaker/15&quot;,\r\n        &quot;data&quot;: [\r\n          {\r\n            &quot;name&quot;: &quot;Name&quot;,\r\n            &quot;value&quot;: &quot;Jessica Kerr&quot;\r\n          }\r\n        ],\r\n        &quot;links&quot;: [\r\n          {\r\n            &quot;rel&quot;: &quot;http://tavis.net/rels/sessions&quot;,\r\n            &quot;href&quot;: &quot;https://conferenceapi.azurewebsites.net/speaker/15/sessions&quot;\r\n          }\r\n        ]\r\n      },\r\n      {\r\n        &quot;href&quot;: &quot;https://conferenceapi.azurewebsites.net/speaker/16&quot;,\r\n        &quot;data&quot;: [\r\n          {\r\n            &quot;name&quot;: &quot;Name&quot;,\r\n            &quot;value&quot;: &quot;Scott Allen&quot;\r\n          }\r\n        ],\r\n        &quot;links&quot;: [\r\n          {\r\n            &quot;rel&quot;: &quot;http://tavis.net/rels/sessions&quot;,\r\n            &quot;href&quot;: &quot;https://conferenceapi.azurewebsites.net/speaker/16/sessions&quot;\r\n          }\r\n        ]\r\n      },\r\n      {\r\n        &quot;href&quot;: &quot;https://conferenceapi.azurewebsites.net/speaker/17&quot;,\r\n        &quot;data&quot;: [\r\n          {\r\n            &quot;name&quot;: &quot;Name&quot;,\r\n            &quot;value&quot;: &quot;Sahil Malik&quot;\r\n          }\r\n        ],\r\n        &quot;links&quot;: [\r\n          {\r\n            &quot;rel&quot;: &quot;http://tavis.net/rels/sessions&quot;,\r\n            &quot;href&quot;: &quot;https://conferenceapi.azurewebsites.net/speaker/17/sessions&quot;\r\n          }\r\n        ]\r\n      },\r\n      {\r\n        &quot;href&quot;: &quot;https://conferenceapi.azurewebsites.net/speaker/18&quot;,\r\n        &quot;data&quot;: [\r\n          {\r\n            &quot;name&quot;: &quot;Name&quot;,\r\n            &quot;value&quot;: &quot;David Fowler&quot;\r\n          }\r\n        ],\r\n        &quot;links&quot;: [\r\n          {\r\n            &quot;rel&quot;: &quot;http://tavis.net/rels/sessions&quot;,\r\n            &quot;href&quot;: &quot;https://conferenceapi.azurewebsites.net/speaker/18/sessions&quot;\r\n          }\r\n        ]\r\n      },\r\n      {\r\n        &quot;href&quot;: &quot;https://conferenceapi.azurewebsites.net/speaker/19&quot;,\r\n        &quot;data&quot;: [\r\n          {\r\n            &quot;name&quot;: &quot;Name&quot;,\r\n            &quot;value&quot;: &quot;Dan North&quot;\r\n          }\r\n        ],\r\n        &quot;links&quot;: [\r\n          {\r\n            &quot;rel&quot;: &quot;http://tavis.net/rels/sessions&quot;,\r\n            &quot;href&quot;: &quot;https://conferenceapi.azurewebsites.net/speaker/19/sessions&quot;\r\n          }\r\n        ]\r\n      },\r\n      {\r\n        &quot;href&quot;: &quot;https://conferenceapi.azurewebsites.net/speaker/20&quot;,\r\n        &quot;data&quot;: [\r\n          {\r\n            &quot;name&quot;: &quot;Name&quot;,\r\n            &quot;value&quot;: &quot;Ashe Dryden&quot;\r\n          }\r\n        ],\r\n        &quot;links&quot;: [\r\n          {\r\n            &quot;rel&quot;: &quot;http://tavis.net/rels/sessions&quot;,\r\n            &quot;href&quot;: &quot;https://conferenceapi.azurewebsites.net/speaker/20/sessions&quot;\r\n          }\r\n        ]\r\n      },\r\n      {\r\n        &quot;href&quot;: &quot;https://conferenceapi.azurewebsites.net/speaker/21&quot;,\r\n        &quot;data&quot;: [\r\n          {\r\n            &quot;name&quot;: &quot;Name&quot;,\r\n            &quot;value&quot;: &quot;Jon Galloway&quot;\r\n          }\r\n        ],\r\n        &quot;links&quot;: [\r\n          {\r\n            &quot;rel&quot;: &quot;http://tavis.net/rels/sessions&quot;,\r\n            &quot;href&quot;: &quot;https://conferenceapi.azurewebsites.net/speaker/21/sessions&quot;\r\n          }\r\n        ]\r\n      },\r\n      {\r\n        &quot;href&quot;: &quot;https://conferenceapi.azurewebsites.net/speaker/22&quot;,\r\n        &quot;data&quot;: [\r\n          {\r\n            &quot;name&quot;: &quot;Name&quot;,\r\n            &quot;value&quot;: &quot;John Azariah&quot;\r\n          }\r\n        ],\r\n        &quot;links&quot;: [\r\n          {\r\n            &quot;rel&quot;: &quot;http://tavis.net/rels/sessions&quot;,\r\n            &quot;href&quot;: &quot;https://conferenceapi.azurewebsites.net/speaker/22/sessions&quot;\r\n          }\r\n        ]\r\n      },\r\n      {\r\n        &quot;href&quot;: &quot;https://conferenceapi.azurewebsites.net/speaker/23&quot;,\r\n        &quot;data&quot;: [\r\n          {\r\n            &quot;name&quot;: &quot;Name&quot;,\r\n            &quot;value&quot;: &quot;Damian Edwards&quot;\r\n          }\r\n        ],\r\n        &quot;links&quot;: [\r\n          {\r\n            &quot;rel&quot;: &quot;http://tavis.net/rels/sessions&quot;,\r\n            &quot;href&quot;: &quot;https://conferenceapi.azurewebsites.net/speaker/23/sessions&quot;\r\n          }\r\n        ]\r\n      },\r\n      {\r\n        &quot;href&quot;: &quot;https://conferenceapi.azurewebsites.net/speaker/24&quot;,\r\n        &quot;data&quot;: [\r\n          {\r\n            &quot;name&quot;: &quot;Name&quot;,\r\n            &quot;value&quot;: &quot;Michele Bustamante&quot;\r\n          }\r\n        ],\r\n        &quot;links&quot;: [\r\n          {\r\n            &quot;rel&quot;: &quot;http://tavis.net/rels/sessions&quot;,\r\n            &quot;href&quot;: &quot;https://conferenceapi.azurewebsites.net/speaker/24/sessions&quot;\r\n          }\r\n        ]\r\n      },\r\n      {\r\n        &quot;href&quot;: &quot;https://conferenceapi.azurewebsites.net/speaker/25&quot;,\r\n        &quot;data&quot;: [\r\n          {\r\n            &quot;name&quot;: &quot;Name&quot;,\r\n            &quot;value&quot;: &quot;Venkat Subramaniam&quot;\r\n          }\r\n        ],\r\n        &quot;links&quot;: [\r\n          {\r\n            &quot;rel&quot;: &quot;http://tavis.net/rels/sessions&quot;,\r\n            &quot;href&quot;: &quot;https://conferenceapi.azurewebsites.net/speaker/25/sessions&quot;\r\n          }\r\n        ]\r\n      },\r\n      {\r\n        &quot;href&quot;: &quot;https://conferenceapi.azurewebsites.net/speaker/26&quot;,\r\n        &quot;data&quot;: [\r\n          {\r\n            &quot;name&quot;: &quot;Name&quot;,\r\n            &quot;value&quot;: &quot;Marit Rossnes&quot;\r\n          }\r\n        ],\r\n        &quot;links&quot;: [\r\n          {\r\n            &quot;rel&quot;: &quot;http://tavis.net/rels/sessions&quot;,\r\n            &quot;href&quot;: &quot;https://conferenceapi.azurewebsites.net/speaker/26/sessions&quot;\r\n          }\r\n        ]\r\n      },\r\n      {\r\n        &quot;href&quot;: &quot;https://conferenceapi.azurewebsites.net/speaker/27&quot;,\r\n        &quot;data&quot;: [\r\n          {\r\n            &quot;name&quot;: &quot;Name&quot;,\r\n            &quot;value&quot;: &quot;Mads Torgersen&quot;\r\n          }\r\n        ],\r\n        &quot;links&quot;: [\r\n          {\r\n            &quot;rel&quot;: &quot;http://tavis.net/rels/sessions&quot;,\r\n            &quot;href&quot;: &quot;https://conferenceapi.azurewebsites.net/speaker/27/sessions&quot;\r\n          }\r\n        ]\r\n      },\r\n      {\r\n        &quot;href&quot;: &quot;https://conferenceapi.azurewebsites.net/speaker/28&quot;,\r\n        &quot;data&quot;: [\r\n          {\r\n            &quot;name&quot;: &quot;Name&quot;,\r\n            &quot;value&quot;: &quot;Nicole Herskowitz&quot;\r\n          }\r\n        ],\r\n        &quot;links&quot;: [\r\n          {\r\n            &quot;rel&quot;: &quot;http://tavis.net/rels/sessions&quot;,\r\n            &quot;href&quot;: &quot;https://conferenceapi.azurewebsites.net/speaker/28/sessions&quot;\r\n          }\r\n        ]\r\n      },\r\n      {\r\n        &quot;href&quot;: &quot;https://conferenceapi.azurewebsites.net/speaker/29&quot;,\r\n        &quot;data&quot;: [\r\n          {\r\n            &quot;name&quot;: &quot;Name&quot;,\r\n            &quot;value&quot;: &quot;Gill Cleeren&quot;\r\n          }\r\n        ],\r\n        &quot;links&quot;: [\r\n          {\r\n            &quot;rel&quot;: &quot;http://tavis.net/rels/sessions&quot;,\r\n            &quot;href&quot;: &quot;https://conferenceapi.azurewebsites.net/speaker/29/sessions&quot;\r\n          }\r\n        ]\r\n      },\r\n      {\r\n        &quot;href&quot;: &quot;https://conferenceapi.azurewebsites.net/speaker/30&quot;,\r\n        &quot;data&quot;: [\r\n          {\r\n            &quot;name&quot;: &quot;Name&quot;,\r\n            &quot;value&quot;: &quot;Gary Bernhardt&quot;\r\n          }\r\n        ],\r\n        &quot;links&quot;: [\r\n          {\r\n            &quot;rel&quot;: &quot;http://tavis.net/rels/sessions&quot;,\r\n            &quot;href&quot;: &quot;https://conferenceapi.azurewebsites.net/speaker/30/sessions&quot;\r\n          }\r\n        ]\r\n      },\r\n      {\r\n        &quot;href&quot;: &quot;https://conferenceapi.azurewebsites.net/speaker/31&quot;,\r\n        &quot;data&quot;: [\r\n          {\r\n            &quot;name&quot;: &quot;Name&quot;,\r\n            &quot;value&quot;: &quot;Mathew McLoughlin&quot;\r\n          }\r\n        ],\r\n        &quot;links&quot;: [\r\n          {\r\n            &quot;rel&quot;: &quot;http://tavis.net/rels/sessions&quot;,\r\n            &quot;href&quot;: &quot;https://conferenceapi.azurewebsites.net/speaker/31/sessions&quot;\r\n          }\r\n        ]\r\n      },\r\n      {\r\n        &quot;href&quot;: &quot;https://conferenceapi.azurewebsites.net/speaker/32&quot;,\r\n        &quot;data&quot;: [\r\n          {\r\n            &quot;name&quot;: &quot;Name&quot;,\r\n            &quot;value&quot;: &quot;David Carmona&quot;\r\n          }\r\n        ],\r\n        &quot;links&quot;: [\r\n          {\r\n            &quot;rel&quot;: &quot;http://tavis.net/rels/sessions&quot;,\r\n            &quot;href&quot;: &quot;https://conferenceapi.azurewebsites.net/speaker/32/sessions&quot;\r\n          }\r\n        ]\r\n      },\r\n      {\r\n        &quot;href&quot;: &quot;https://conferenceapi.azurewebsites.net/speaker/33&quot;,\r\n        &quot;data&quot;: [\r\n          {\r\n            &quot;name&quot;: &quot;Name&quot;,\r\n            &quot;value&quot;: &quot;Juval Lowy&quot;\r\n          }\r\n        ],\r\n        &quot;links&quot;: [\r\n          {\r\n            &quot;rel&quot;: &quot;http://tavis.net/rels/sessions&quot;,\r\n            &quot;href&quot;: &quot;https://conferenceapi.azurewebsites.net/speaker/33/sessions&quot;\r\n          }\r\n        ]\r\n      },\r\n      {\r\n        &quot;href&quot;: &quot;https://conferenceapi.azurewebsites.net/speaker/34&quot;,\r\n        &quot;data&quot;: [\r\n          {\r\n            &quot;name&quot;: &quot;Name&quot;,\r\n            &quot;value&quot;: &quot;Louis Dejardin&quot;\r\n          }\r\n        ],\r\n        &quot;links&quot;: [\r\n          {\r\n            &quot;rel&quot;: &quot;http://tavis.net/rels/sessions&quot;,\r\n            &quot;href&quot;: &quot;https://conferenceapi.azurewebsites.net/speaker/34/sessions&quot;\r\n          }\r\n        ]\r\n      },\r\n      {\r\n        &quot;href&quot;: &quot;https://conferenceapi.azurewebsites.net/speaker/35&quot;,\r\n        &quot;data&quot;: [\r\n          {\r\n            &quot;name&quot;: &quot;Name&quot;,\r\n            &quot;value&quot;: &quot;Stuart Lodge&quot;\r\n          }\r\n        ],\r\n        &quot;links&quot;: [\r\n          {\r\n            &quot;rel&quot;: &quot;http://tavis.net/rels/sessions&quot;,\r\n            &quot;href&quot;: &quot;https://conferenceapi.azurewebsites.net/speaker/35/sessions&quot;\r\n          }\r\n        ]\r\n      },\r\n      {\r\n        &quot;href&quot;: &quot;https://conferenceapi.azurewebsites.net/speaker/36&quot;,\r\n        &quot;data&quot;: [\r\n          {\r\n            &quot;name&quot;: &quot;Name&quot;,\r\n            &quot;value&quot;: &quot;Colin Beales&quot;\r\n          }\r\n        ],\r\n        &quot;links&quot;: [\r\n          {\r\n            &quot;rel&quot;: &quot;http://tavis.net/rels/sessions&quot;,\r\n            &quot;href&quot;: &quot;https://conferenceapi.azurewebsites.net/speaker/36/sessions&quot;\r\n          }\r\n        ]\r\n      },\r\n      {\r\n        &quot;href&quot;: &quot;https://conferenceapi.azurewebsites.net/speaker/37&quot;,\r\n        &quot;data&quot;: [\r\n          {\r\n            &quot;name&quot;: &quot;Name&quot;,\r\n            &quot;value&quot;: &quot;Pedro F&amp;#233;lix&quot;\r\n          }\r\n        ],\r\n        &quot;links&quot;: [\r\n          {\r\n            &quot;rel&quot;: &quot;http://tavis.net/rels/sessions&quot;,\r\n            &quot;href&quot;: &quot;https://conferenceapi.azurewebsites.net/speaker/37/sessions&quot;\r\n          }\r\n        ]\r\n      },\r\n      {\r\n        &quot;href&quot;: &quot;https://conferenceapi.azurewebsites.net/speaker/38&quot;,\r\n        &quot;data&quot;: [\r\n          {\r\n            &quot;name&quot;: &quot;Name&quot;,\r\n            &quot;value&quot;: &quot;Tiberiu Covaci&quot;\r\n          }\r\n        ],\r\n        &quot;links&quot;: [\r\n          {\r\n            &quot;rel&quot;: &quot;http://tavis.net/rels/sessions&quot;,\r\n            &quot;href&quot;: &quot;https://conferenceapi.azurewebsites.net/speaker/38/sessions&quot;\r\n          }\r\n        ]\r\n      },\r\n      {\r\n        &quot;href&quot;: &quot;https://conferenceapi.azurewebsites.net/speaker/39&quot;,\r\n        &quot;data&quot;: [\r\n          {\r\n            &quot;name&quot;: &quot;Name&quot;,\r\n            &quot;value&quot;: &quot;Gary Short&quot;\r\n          }\r\n        ],\r\n        &quot;links&quot;: [\r\n          {\r\n            &quot;rel&quot;: &quot;http://tavis.net/rels/sessions&quot;,\r\n            &quot;href&quot;: &quot;https://conferenceapi.azurewebsites.net/speaker/39/sessions&quot;\r\n          }\r\n        ]\r\n      },\r\n      {\r\n        &quot;href&quot;: &quot;https://conferenceapi.azurewebsites.net/speaker/40&quot;,\r\n        &quot;data&quot;: [\r\n          {\r\n            &quot;name&quot;: &quot;Name&quot;,\r\n            &quot;value&quot;: &quot;Damian Hickey&quot;\r\n          }\r\n        ],\r\n        &quot;links&quot;: [\r\n          {\r\n            &quot;rel&quot;: &quot;http://tavis.net/rels/sessions&quot;,\r\n            &quot;href&quot;: &quot;https://conferenceapi.azurewebsites.net/speaker/40/sessions&quot;\r\n          }\r\n        ]\r\n      },\r\n      {\r\n        &quot;href&quot;: &quot;https://conferenceapi.azurewebsites.net/speaker/41&quot;,\r\n        &quot;data&quot;: [\r\n          {\r\n            &quot;name&quot;: &quot;Name&quot;,\r\n            &quot;value&quot;: &quot;Burke Holland&quot;\r\n          }\r\n        ],\r\n        &quot;links&quot;: [\r\n          {\r\n            &quot;rel&quot;: &quot;http://tavis.net/rels/sessions&quot;,\r\n            &quot;href&quot;: &quot;https://conferenceapi.azurewebsites.net/speaker/41/sessions&quot;\r\n          }\r\n        ]\r\n      },\r\n      {\r\n        &quot;href&quot;: &quot;https://conferenceapi.azurewebsites.net/speaker/42&quot;,\r\n        &quot;data&quot;: [\r\n          {\r\n            &quot;name&quot;: &quot;Name&quot;,\r\n            &quot;value&quot;: &quot;Mark Rendle&quot;\r\n          }\r\n        ],\r\n        &quot;links&quot;: [\r\n          {\r\n            &quot;rel&quot;: &quot;http://tavis.net/rels/sessions&quot;,\r\n            &quot;href&quot;: &quot;https://conferenceapi.azurewebsites.net/speaker/42/sessions&quot;\r\n          }\r\n        ]\r\n      },\r\n      {\r\n        &quot;href&quot;: &quot;https://conferenceapi.azurewebsites.net/speaker/43&quot;,\r\n        &quot;data&quot;: [\r\n          {\r\n            &quot;name&quot;: &quot;Name&quot;,\r\n            &quot;value&quot;: &quot;Miguel Castro&quot;\r\n          }\r\n        ],\r\n        &quot;links&quot;: [\r\n          {\r\n            &quot;rel&quot;: &quot;http://tavis.net/rels/sessions&quot;,\r\n            &quot;href&quot;: &quot;https://conferenceapi.azurewebsites.net/speaker/43/sessions&quot;\r\n          }\r\n        ]\r\n      },\r\n      {\r\n        &quot;href&quot;: &quot;https://conferenceapi.azurewebsites.net/speaker/44&quot;,\r\n        &quot;data&quot;: [\r\n          {\r\n            &quot;name&quot;: &quot;Name&quot;,\r\n            &quot;value&quot;: &quot;Tomas Petricek&quot;\r\n          }\r\n        ],\r\n        &quot;links&quot;: [\r\n          {\r\n            &quot;rel&quot;: &quot;http://tavis.net/rels/sessions&quot;,\r\n            &quot;href&quot;: &quot;https://conferenceapi.azurewebsites.net/speaker/44/sessions&quot;\r\n          }\r\n        ]\r\n      },\r\n      {\r\n        &quot;href&quot;: &quot;https://conferenceapi.azurewebsites.net/speaker/45&quot;,\r\n        &quot;data&quot;: [\r\n          {\r\n            &quot;name&quot;: &quot;Name&quot;,\r\n            &quot;value&quot;: &quot;Geoff Watts&quot;\r\n          }\r\n        ],\r\n        &quot;links&quot;: [\r\n          {\r\n            &quot;rel&quot;: &quot;http://tavis.net/rels/sessions&quot;,\r\n            &quot;href&quot;: &quot;https://conferenceapi.azurewebsites.net/speaker/45/sessions&quot;\r\n          }\r\n        ]\r\n      },\r\n      {\r\n        &quot;href&quot;: &quot;https://conferenceapi.azurewebsites.net/speaker/46&quot;,\r\n        &quot;data&quot;: [\r\n          {\r\n            &quot;name&quot;: &quot;Name&quot;,\r\n            &quot;value&quot;: &quot;Brian A. Randell&quot;\r\n          }\r\n        ],\r\n        &quot;links&quot;: [\r\n          {\r\n            &quot;rel&quot;: &quot;http://tavis.net/rels/sessions&quot;,\r\n            &quot;href&quot;: &quot;https://conferenceapi.azurewebsites.net/speaker/46/sessions&quot;\r\n          }\r\n        ]\r\n      },\r\n      {\r\n        &quot;href&quot;: &quot;https://conferenceapi.azurewebsites.net/speaker/47&quot;,\r\n        &quot;data&quot;: [\r\n          {\r\n            &quot;name&quot;: &quot;Name&quot;,\r\n            &quot;value&quot;: &quot;Erlend Oftedal&quot;\r\n          }\r\n        ],\r\n        &quot;links&quot;: [\r\n          {\r\n            &quot;rel&quot;: &quot;http://tavis.net/rels/sessions&quot;,\r\n            &quot;href&quot;: &quot;https://conferenceapi.azurewebsites.net/speaker/47/sessions&quot;\r\n          }\r\n        ]\r\n      },\r\n      {\r\n        &quot;href&quot;: &quot;https://conferenceapi.azurewebsites.net/speaker/48&quot;,\r\n        &quot;data&quot;: [\r\n          {\r\n            &quot;name&quot;: &quot;Name&quot;,\r\n            &quot;value&quot;: &quot;James Hughes&quot;\r\n          }\r\n        ],\r\n        &quot;links&quot;: [\r\n          {\r\n            &quot;rel&quot;: &quot;http://tavis.net/rels/sessions&quot;,\r\n            &quot;href&quot;: &quot;https://conferenceapi.azurewebsites.net/speaker/48/sessions&quot;\r\n          }\r\n        ]\r\n      },\r\n      {\r\n        &quot;href&quot;: &quot;https://conferenceapi.azurewebsites.net/speaker/49&quot;,\r\n        &quot;data&quot;: [\r\n          {\r\n            &quot;name&quot;: &quot;Name&quot;,\r\n            &quot;value&quot;: &quot;Tomas Jansson&quot;\r\n          }\r\n        ],\r\n        &quot;links&quot;: [\r\n          {\r\n            &quot;rel&quot;: &quot;http://tavis.net/rels/sessions&quot;,\r\n            &quot;href&quot;: &quot;https://conferenceapi.azurewebsites.net/speaker/49/sessions&quot;\r\n          }\r\n        ]\r\n      },\r\n      {\r\n        &quot;href&quot;: &quot;https://conferenceapi.azurewebsites.net/speaker/50&quot;,\r\n        &quot;data&quot;: [\r\n          {\r\n            &quot;name&quot;: &quot;Name&quot;,\r\n            &quot;value&quot;: &quot;G&amp;#225;sp&amp;#225;r Nagy&quot;\r\n          }\r\n        ],\r\n        &quot;links&quot;: [\r\n          {\r\n            &quot;rel&quot;: &quot;http://tavis.net/rels/sessions&quot;,\r\n            &quot;href&quot;: &quot;https://conferenceapi.azurewebsites.net/speaker/50/sessions&quot;\r\n          }\r\n        ]\r\n      },\r\n      {\r\n        &quot;href&quot;: &quot;https://conferenceapi.azurewebsites.net/speaker/51&quot;,\r\n        &quot;data&quot;: [\r\n          {\r\n            &quot;name&quot;: &quot;Name&quot;,\r\n            &quot;value&quot;: &quot;Andy Clymer&quot;\r\n          }\r\n        ],\r\n        &quot;links&quot;: [\r\n          {\r\n            &quot;rel&quot;: &quot;http://tavis.net/rels/sessions&quot;,\r\n            &quot;href&quot;: &quot;https://conferenceapi.azurewebsites.net/speaker/51/sessions&quot;\r\n          }\r\n        ]\r\n      },\r\n      {\r\n        &quot;href&quot;: &quot;https://conferenceapi.azurewebsites.net/speaker/52&quot;,\r\n        &quot;data&quot;: [\r\n          {\r\n            &quot;name&quot;: &quot;Name&quot;,\r\n            &quot;value&quot;: &quot;Carl Franklin&quot;\r\n          }\r\n        ],\r\n        &quot;links&quot;: [\r\n          {\r\n            &quot;rel&quot;: &quot;http://tavis.net/rels/sessions&quot;,\r\n            &quot;href&quot;: &quot;https://conferenceapi.azurewebsites.net/speaker/52/sessions&quot;\r\n          }\r\n        ]\r\n      },\r\n      {\r\n        &quot;href&quot;: &quot;https://conferenceapi.azurewebsites.net/speaker/53&quot;,\r\n        &quot;data&quot;: [\r\n          {\r\n            &quot;name&quot;: &quot;Name&quot;,\r\n            &quot;value&quot;: &quot;Richard Campbell&quot;\r\n          }\r\n        ],\r\n        &quot;links&quot;: [\r\n          {\r\n            &quot;rel&quot;: &quot;http://tavis.net/rels/sessions&quot;,\r\n            &quot;href&quot;: &quot;https://conferenceapi.azurewebsites.net/speaker/53/sessions&quot;\r\n          }\r\n        ]\r\n      },\r\n      {\r\n        &quot;href&quot;: &quot;https://conferenceapi.azurewebsites.net/speaker/54&quot;,\r\n        &quot;data&quot;: [\r\n          {\r\n            &quot;name&quot;: &quot;Name&quot;,\r\n            &quot;value&quot;: &quot;Paul Stack&quot;\r\n          }\r\n        ],\r\n        &quot;links&quot;: [\r\n          {\r\n            &quot;rel&quot;: &quot;http://tavis.net/rels/sessions&quot;,\r\n            &quot;href&quot;: &quot;https://conferenceapi.azurewebsites.net/speaker/54/sessions&quot;\r\n          }\r\n        ]\r\n      },\r\n      {\r\n        &quot;href&quot;: &quot;https://conferenceapi.azurewebsites.net/speaker/55&quot;,\r\n        &quot;data&quot;: [\r\n          {\r\n            &quot;name&quot;: &quot;Name&quot;,\r\n            &quot;value&quot;: &quot;Marcin Floryan&quot;\r\n          }\r\n        ],\r\n        &quot;links&quot;: [\r\n          {\r\n            &quot;rel&quot;: &quot;http://tavis.net/rels/sessions&quot;,\r\n            &quot;href&quot;: &quot;https://conferenceapi.azurewebsites.net/speaker/55/sessions&quot;\r\n          }\r\n        ]\r\n      },\r\n      {\r\n        &quot;href&quot;: &quot;https://conferenceapi.azurewebsites.net/speaker/56&quot;,\r\n        &quot;data&quot;: [\r\n          {\r\n            &quot;name&quot;: &quot;Name&quot;,\r\n            &quot;value&quot;: &quot;Enrico Campidoglio&quot;\r\n          }\r\n        ],\r\n        &quot;links&quot;: [\r\n          {\r\n            &quot;rel&quot;: &quot;http://tavis.net/rels/sessions&quot;,\r\n            &quot;href&quot;: &quot;https://conferenceapi.azurewebsites.net/speaker/56/sessions&quot;\r\n          }\r\n        ]\r\n      },\r\n      {\r\n        &quot;href&quot;: &quot;https://conferenceapi.azurewebsites.net/speaker/57&quot;,\r\n        &quot;data&quot;: [\r\n          {\r\n            &quot;name&quot;: &quot;Name&quot;,\r\n            &quot;value&quot;: &quot;Justin Rusbatch&quot;\r\n          }\r\n        ],\r\n        &quot;links&quot;: [\r\n          {\r\n            &quot;rel&quot;: &quot;http://tavis.net/rels/sessions&quot;,\r\n            &quot;href&quot;: &quot;https://conferenceapi.azurewebsites.net/speaker/57/sessions&quot;\r\n          }\r\n        ]\r\n      },\r\n      {\r\n        &quot;href&quot;: &quot;https://conferenceapi.azurewebsites.net/speaker/58&quot;,\r\n        &quot;data&quot;: [\r\n          {\r\n            &quot;name&quot;: &quot;Name&quot;,\r\n            &quot;value&quot;: &quot;Matt Ellis&quot;\r\n          }\r\n        ],\r\n        &quot;links&quot;: [\r\n          {\r\n            &quot;rel&quot;: &quot;http://tavis.net/rels/sessions&quot;,\r\n            &quot;href&quot;: &quot;https://conferenceapi.azurewebsites.net/speaker/58/sessions&quot;\r\n          }\r\n        ]\r\n      },\r\n      {\r\n        &quot;href&quot;: &quot;https://conferenceapi.azurewebsites.net/speaker/59&quot;,\r\n        &quot;data&quot;: [\r\n          {\r\n            &quot;name&quot;: &quot;Name&quot;,\r\n            &quot;value&quot;: &quot;Christian Weyer&quot;\r\n          }\r\n        ],\r\n        &quot;links&quot;: [\r\n          {\r\n            &quot;rel&quot;: &quot;http://tavis.net/rels/sessions&quot;,\r\n            &quot;href&quot;: &quot;https://conferenceapi.azurewebsites.net/speaker/59/sessions&quot;\r\n          }\r\n        ]\r\n      },\r\n      {\r\n        &quot;href&quot;: &quot;https://conferenceapi.azurewebsites.net/speaker/60&quot;,\r\n        &quot;data&quot;: [\r\n          {\r\n            &quot;name&quot;: &quot;Name&quot;,\r\n            &quot;value&quot;: &quot;JP Toto&quot;\r\n          }\r\n        ],\r\n        &quot;links&quot;: [\r\n          {\r\n            &quot;rel&quot;: &quot;http://tavis.net/rels/sessions&quot;,\r\n            &quot;href&quot;: &quot;https://conferenceapi.azurewebsites.net/speaker/60/sessions&quot;\r\n          }\r\n        ]\r\n      },\r\n      {\r\n        &quot;href&quot;: &quot;https://conferenceapi.azurewebsites.net/speaker/61&quot;,\r\n        &quot;data&quot;: [\r\n          {\r\n            &quot;name&quot;: &quot;Name&quot;,\r\n            &quot;value&quot;: &quot;Mahesh Krishnan&quot;\r\n          }\r\n        ],\r\n        &quot;links&quot;: [\r\n          {\r\n            &quot;rel&quot;: &quot;http://tavis.net/rels/sessions&quot;,\r\n            &quot;href&quot;: &quot;https://conferenceapi.azurewebsites.net/speaker/61/sessions&quot;\r\n          }\r\n        ]\r\n      },\r\n      {\r\n        &quot;href&quot;: &quot;https://conferenceapi.azurewebsites.net/speaker/62&quot;,\r\n        &quot;data&quot;: [\r\n          {\r\n            &quot;name&quot;: &quot;Name&quot;,\r\n            &quot;value&quot;: &quot;Ashic Mahtab&quot;\r\n          }\r\n        ],\r\n        &quot;links&quot;: [\r\n          {\r\n            &quot;rel&quot;: &quot;http://tavis.net/rels/sessions&quot;,\r\n            &quot;href&quot;: &quot;https://conferenceapi.azurewebsites.net/speaker/62/sessions&quot;\r\n          }\r\n        ]\r\n      },\r\n      {\r\n        &quot;href&quot;: &quot;https://conferenceapi.azurewebsites.net/speaker/63&quot;,\r\n        &quot;data&quot;: [\r\n          {\r\n            &quot;name&quot;: &quot;Name&quot;,\r\n            &quot;value&quot;: &quot;Scott Wlaschin&quot;\r\n          }\r\n        ],\r\n        &quot;links&quot;: [\r\n          {\r\n            &quot;rel&quot;: &quot;http://tavis.net/rels/sessions&quot;,\r\n            &quot;href&quot;: &quot;https://conferenceapi.azurewebsites.net/speaker/63/sessions&quot;\r\n          }\r\n        ]\r\n      },\r\n      {\r\n        &quot;href&quot;: &quot;https://conferenceapi.azurewebsites.net/speaker/64&quot;,\r\n        &quot;data&quot;: [\r\n          {\r\n            &quot;name&quot;: &quot;Name&quot;,\r\n            &quot;value&quot;: &quot;Laurent Bugnion&quot;\r\n          }\r\n        ],\r\n        &quot;links&quot;: [\r\n          {\r\n            &quot;rel&quot;: &quot;http://tavis.net/rels/sessions&quot;,\r\n            &quot;href&quot;: &quot;https://conferenceapi.azurewebsites.net/speaker/64/sessions&quot;\r\n          }\r\n        ]\r\n      },\r\n      {\r\n        &quot;href&quot;: &quot;https://conferenceapi.azurewebsites.net/speaker/65&quot;,\r\n        &quot;data&quot;: [\r\n          {\r\n            &quot;name&quot;: &quot;Name&quot;,\r\n            &quot;value&quot;: &quot;Tim G. Thomas&quot;\r\n          }\r\n        ],\r\n        &quot;links&quot;: [\r\n          {\r\n            &quot;rel&quot;: &quot;http://tavis.net/rels/sessions&quot;,\r\n            &quot;href&quot;: &quot;https://conferenceapi.azurewebsites.net/speaker/65/sessions&quot;\r\n          }\r\n        ]\r\n      },\r\n      {\r\n        &quot;href&quot;: &quot;https://conferenceapi.azurewebsites.net/speaker/66&quot;,\r\n        &quot;data&quot;: [\r\n          {\r\n            &quot;name&quot;: &quot;Name&quot;,\r\n            &quot;value&quot;: &quot;Richard Astbury&quot;\r\n          }\r\n        ],\r\n        &quot;links&quot;: [\r\n          {\r\n            &quot;rel&quot;: &quot;http://tavis.net/rels/sessions&quot;,\r\n            &quot;href&quot;: &quot;https://conferenceapi.azurewebsites.net/speaker/66/sessions&quot;\r\n          }\r\n        ]\r\n      },\r\n      {\r\n        &quot;href&quot;: &quot;https://conferenceapi.azurewebsites.net/speaker/67&quot;,\r\n        &quot;data&quot;: [\r\n          {\r\n            &quot;name&quot;: &quot;Name&quot;,\r\n            &quot;value&quot;: &quot;Hubert Matthews&quot;\r\n          }\r\n        ],\r\n        &quot;links&quot;: [\r\n          {\r\n            &quot;rel&quot;: &quot;http://tavis.net/rels/sessions&quot;,\r\n            &quot;href&quot;: &quot;https://conferenceapi.azurewebsites.net/speaker/67/sessions&quot;\r\n          }\r\n        ]\r\n      },\r\n      {\r\n        &quot;href&quot;: &quot;https://conferenceapi.azurewebsites.net/speaker/68&quot;,\r\n        &quot;data&quot;: [\r\n          {\r\n            &quot;name&quot;: &quot;Name&quot;,\r\n            &quot;value&quot;: &quot;Dror Helper&quot;\r\n          }\r\n        ],\r\n        &quot;links&quot;: [\r\n          {\r\n            &quot;rel&quot;: &quot;http://tavis.net/rels/sessions&quot;,\r\n            &quot;href&quot;: &quot;https://conferenceapi.azurewebsites.net/speaker/68/sessions&quot;\r\n          }\r\n        ]\r\n      },\r\n      {\r\n        &quot;href&quot;: &quot;https://conferenceapi.azurewebsites.net/speaker/69&quot;,\r\n        &quot;data&quot;: [\r\n          {\r\n            &quot;name&quot;: &quot;Name&quot;,\r\n            &quot;value&quot;: &quot;Simon Brown&quot;\r\n          }\r\n        ],\r\n        &quot;links&quot;: [\r\n          {\r\n            &quot;rel&quot;: &quot;http://tavis.net/rels/sessions&quot;,\r\n            &quot;href&quot;: &quot;https://conferenceapi.azurewebsites.net/speaker/69/sessions&quot;\r\n          }\r\n        ]\r\n      },\r\n      {\r\n        &quot;href&quot;: &quot;https://conferenceapi.azurewebsites.net/speaker/70&quot;,\r\n        &quot;data&quot;: [\r\n          {\r\n            &quot;name&quot;: &quot;Name&quot;,\r\n            &quot;value&quot;: &quot;Russ Miles&quot;\r\n          }\r\n        ],\r\n        &quot;links&quot;: [\r\n          {\r\n            &quot;rel&quot;: &quot;http://tavis.net/rels/sessions&quot;,\r\n            &quot;href&quot;: &quot;https://conferenceapi.azurewebsites.net/speaker/70/sessions&quot;\r\n          }\r\n        ]\r\n      },\r\n      {\r\n        &quot;href&quot;: &quot;https://conferenceapi.azurewebsites.net/speaker/71&quot;,\r\n        &quot;data&quot;: [\r\n          {\r\n            &quot;name&quot;: &quot;Name&quot;,\r\n            &quot;value&quot;: &quot;Christian Hassa&quot;\r\n          }\r\n        ],\r\n        &quot;links&quot;: [\r\n          {\r\n            &quot;rel&quot;: &quot;http://tavis.net/rels/sessions&quot;,\r\n            &quot;href&quot;: &quot;https://conferenceapi.azurewebsites.net/speaker/71/sessions&quot;\r\n          }\r\n        ]\r\n      },\r\n      {\r\n        &quot;href&quot;: &quot;https://conferenceapi.azurewebsites.net/speaker/72&quot;,\r\n        &quot;data&quot;: [\r\n          {\r\n            &quot;name&quot;: &quot;Name&quot;,\r\n            &quot;value&quot;: &quot;Christian Wenz&quot;\r\n          }\r\n        ],\r\n        &quot;links&quot;: [\r\n          {\r\n            &quot;rel&quot;: &quot;http://tavis.net/rels/sessions&quot;,\r\n            &quot;href&quot;: &quot;https://conferenceapi.azurewebsites.net/speaker/72/sessions&quot;\r\n          }\r\n        ]\r\n      },\r\n      {\r\n        &quot;href&quot;: &quot;https://conferenceapi.azurewebsites.net/speaker/73&quot;,\r\n        &quot;data&quot;: [\r\n          {\r\n            &quot;name&quot;: &quot;Name&quot;,\r\n            &quot;value&quot;: &quot;Mike Taulty&quot;\r\n          }\r\n        ],\r\n        &quot;links&quot;: [\r\n          {\r\n            &quot;rel&quot;: &quot;http://tavis.net/rels/sessions&quot;,\r\n            &quot;href&quot;: &quot;https://conferenceapi.azurewebsites.net/speaker/73/sessions&quot;\r\n          }\r\n        ]\r\n      },\r\n      {\r\n        &quot;href&quot;: &quot;https://conferenceapi.azurewebsites.net/speaker/74&quot;,\r\n        &quot;data&quot;: [\r\n          {\r\n            &quot;name&quot;: &quot;Name&quot;,\r\n            &quot;value&quot;: &quot;Andy Wigley&quot;\r\n          }\r\n        ],\r\n        &quot;links&quot;: [\r\n          {\r\n            &quot;rel&quot;: &quot;http://tavis.net/rels/sessions&quot;,\r\n            &quot;href&quot;: &quot;https://conferenceapi.azurewebsites.net/speaker/74/sessions&quot;\r\n          }\r\n        ]\r\n      },\r\n      {\r\n        &quot;href&quot;: &quot;https://conferenceapi.azurewebsites.net/speaker/75&quot;,\r\n        &quot;data&quot;: [\r\n          {\r\n            &quot;name&quot;: &quot;Name&quot;,\r\n            &quot;value&quot;: &quot;Martin Beeby&quot;\r\n          }\r\n        ],\r\n        &quot;links&quot;: [\r\n          {\r\n            &quot;rel&quot;: &quot;http://tavis.net/rels/sessions&quot;,\r\n            &quot;href&quot;: &quot;https://conferenceapi.azurewebsites.net/speaker/75/sessions&quot;\r\n          }\r\n        ]\r\n      },\r\n      {\r\n        &quot;href&quot;: &quot;https://conferenceapi.azurewebsites.net/speaker/76&quot;,\r\n        &quot;data&quot;: [\r\n          {\r\n            &quot;name&quot;: &quot;Name&quot;,\r\n            &quot;value&quot;: &quot;Mark Seemann&quot;\r\n          }\r\n        ],\r\n        &quot;links&quot;: [\r\n          {\r\n            &quot;rel&quot;: &quot;http://tavis.net/rels/sessions&quot;,\r\n            &quot;href&quot;: &quot;https://conferenceapi.azurewebsites.net/speaker/76/sessions&quot;\r\n          }\r\n        ]\r\n      },\r\n      {\r\n        &quot;href&quot;: &quot;https://conferenceapi.azurewebsites.net/speaker/77&quot;,\r\n        &quot;data&quot;: [\r\n          {\r\n            &quot;name&quot;: &quot;Name&quot;,\r\n            &quot;value&quot;: &quot;Ben Hall&quot;\r\n          }\r\n        ],\r\n        &quot;links&quot;: [\r\n          {\r\n            &quot;rel&quot;: &quot;http://tavis.net/rels/sessions&quot;,\r\n            &quot;href&quot;: &quot;https://conferenceapi.azurewebsites.net/speaker/77/sessions&quot;\r\n          }\r\n        ]\r\n      },\r\n      {\r\n        &quot;href&quot;: &quot;https://conferenceapi.azurewebsites.net/speaker/78&quot;,\r\n        &quot;data&quot;: [\r\n          {\r\n            &quot;name&quot;: &quot;Name&quot;,\r\n            &quot;value&quot;: &quot;Bj&amp;#248;rn Einar Bjartnes&quot;\r\n          }\r\n        ],\r\n        &quot;links&quot;: [\r\n          {\r\n            &quot;rel&quot;: &quot;http://tavis.net/rels/sessions&quot;,\r\n            &quot;href&quot;: &quot;https://conferenceapi.azurewebsites.net/speaker/78/sessions&quot;\r\n          }\r\n        ]\r\n      },\r\n      {\r\n        &quot;href&quot;: &quot;https://conferenceapi.azurewebsites.net/speaker/79&quot;,\r\n        &quot;data&quot;: [\r\n          {\r\n            &quot;name&quot;: &quot;Name&quot;,\r\n            &quot;value&quot;: &quot;Brandon Satrom&quot;\r\n          }\r\n        ],\r\n        &quot;links&quot;: [\r\n          {\r\n            &quot;rel&quot;: &quot;http://tavis.net/rels/sessions&quot;,\r\n            &quot;href&quot;: &quot;https://conferenceapi.azurewebsites.net/speaker/79/sessions&quot;\r\n          }\r\n        ]\r\n      },\r\n      {\r\n        &quot;href&quot;: &quot;https://conferenceapi.azurewebsites.net/speaker/80&quot;,\r\n        &quot;data&quot;: [\r\n          {\r\n            &quot;name&quot;: &quot;Name&quot;,\r\n            &quot;value&quot;: &quot;Jeremy D. Miller&quot;\r\n          }\r\n        ],\r\n        &quot;links&quot;: [\r\n          {\r\n            &quot;rel&quot;: &quot;http://tavis.net/rels/sessions&quot;,\r\n            &quot;href&quot;: &quot;https://conferenceapi.azurewebsites.net/speaker/80/sessions&quot;\r\n          }\r\n        ]\r\n      },\r\n      {\r\n        &quot;href&quot;: &quot;https://conferenceapi.azurewebsites.net/speaker/81&quot;,\r\n        &quot;data&quot;: [\r\n          {\r\n            &quot;name&quot;: &quot;Name&quot;,\r\n            &quot;value&quot;: &quot;Simon Elliston Ball&quot;\r\n          }\r\n        ],\r\n        &quot;links&quot;: [\r\n          {\r\n            &quot;rel&quot;: &quot;http://tavis.net/rels/sessions&quot;,\r\n            &quot;href&quot;: &quot;https://conferenceapi.azurewebsites.net/speaker/81/sessions&quot;\r\n          }\r\n        ]\r\n      },\r\n      {\r\n        &quot;href&quot;: &quot;https://conferenceapi.azurewebsites.net/speaker/82&quot;,\r\n        &quot;data&quot;: [\r\n          {\r\n            &quot;name&quot;: &quot;Name&quot;,\r\n            &quot;value&quot;: &quot;Einar H&amp;#248;st&quot;\r\n          }\r\n        ],\r\n        &quot;links&quot;: [\r\n          {\r\n            &quot;rel&quot;: &quot;http://tavis.net/rels/sessions&quot;,\r\n            &quot;href&quot;: &quot;https://conferenceapi.azurewebsites.net/speaker/82/sessions&quot;\r\n          }\r\n        ]\r\n      },\r\n      {\r\n        &quot;href&quot;: &quot;https://conferenceapi.azurewebsites.net/speaker/83&quot;,\r\n        &quot;data&quot;: [\r\n          {\r\n            &quot;name&quot;: &quot;Name&quot;,\r\n            &quot;value&quot;: &quot;Jonas Winje&quot;\r\n          }\r\n        ],\r\n        &quot;links&quot;: [\r\n          {\r\n            &quot;rel&quot;: &quot;http://tavis.net/rels/sessions&quot;,\r\n            &quot;href&quot;: &quot;https://conferenceapi.azurewebsites.net/speaker/83/sessions&quot;\r\n          }\r\n        ]\r\n      },\r\n      {\r\n        &quot;href&quot;: &quot;https://conferenceapi.azurewebsites.net/speaker/84&quot;,\r\n        &quot;data&quot;: [\r\n          {\r\n            &quot;name&quot;: &quot;Name&quot;,\r\n            &quot;value&quot;: &quot;Steve Sanderson&quot;\r\n          }\r\n        ],\r\n        &quot;links&quot;: [\r\n          {\r\n            &quot;rel&quot;: &quot;http://tavis.net/rels/sessions&quot;,\r\n            &quot;href&quot;: &quot;https://conferenceapi.azurewebsites.net/speaker/84/sessions&quot;\r\n          }\r\n        ]\r\n      },\r\n      {\r\n        &quot;href&quot;: &quot;https://conferenceapi.azurewebsites.net/speaker/85&quot;,\r\n        &quot;data&quot;: [\r\n          {\r\n            &quot;name&quot;: &quot;Name&quot;,\r\n            &quot;value&quot;: &quot;Richard Garside&quot;\r\n          }\r\n        ],\r\n        &quot;links&quot;: [\r\n          {\r\n            &quot;rel&quot;: &quot;http://tavis.net/rels/sessions&quot;,\r\n            &quot;href&quot;: &quot;https://conferenceapi.azurewebsites.net/speaker/85/sessions&quot;\r\n          }\r\n        ]\r\n      },\r\n      {\r\n        &quot;href&quot;: &quot;https://conferenceapi.azurewebsites.net/speaker/86&quot;,\r\n        &quot;data&quot;: [\r\n          {\r\n            &quot;name&quot;: &quot;Name&quot;,\r\n            &quot;value&quot;: &quot;Bryan Hunter&quot;\r\n          }\r\n        ],\r\n        &quot;links&quot;: [\r\n          {\r\n            &quot;rel&quot;: &quot;http://tavis.net/rels/sessions&quot;,\r\n            &quot;href&quot;: &quot;https://conferenceapi.azurewebsites.net/speaker/86/sessions&quot;\r\n          }\r\n        ]\r\n      },\r\n      {\r\n        &quot;href&quot;: &quot;https://conferenceapi.azurewebsites.net/speaker/87&quot;,\r\n        &quot;data&quot;: [\r\n          {\r\n            &quot;name&quot;: &quot;Name&quot;,\r\n            &quot;value&quot;: &quot;Paul Betts&quot;\r\n          }\r\n        ],\r\n        &quot;links&quot;: [\r\n          {\r\n            &quot;rel&quot;: &quot;http://tavis.net/rels/sessions&quot;,\r\n            &quot;href&quot;: &quot;https://conferenceapi.azurewebsites.net/speaker/87/sessions&quot;\r\n          }\r\n        ]\r\n      },\r\n      {\r\n        &quot;href&quot;: &quot;https://conferenceapi.azurewebsites.net/speaker/88&quot;,\r\n        &quot;data&quot;: [\r\n          {\r\n            &quot;name&quot;: &quot;Name&quot;,\r\n            &quot;value&quot;: &quot;Glenn Block&quot;\r\n          }\r\n        ],\r\n        &quot;links&quot;: [\r\n          {\r\n            &quot;rel&quot;: &quot;http://tavis.net/rels/sessions&quot;,\r\n            &quot;href&quot;: &quot;https://conferenceapi.azurewebsites.net/speaker/88/sessions&quot;\r\n          }\r\n        ]\r\n      },\r\n      {\r\n        &quot;href&quot;: &quot;https://conferenceapi.azurewebsites.net/speaker/89&quot;,\r\n        &quot;data&quot;: [\r\n          {\r\n            &quot;name&quot;: &quot;Name&quot;,\r\n            &quot;value&quot;: &quot;Brock Allen&quot;\r\n          }\r\n        ],\r\n        &quot;links&quot;: [\r\n          {\r\n            &quot;rel&quot;: &quot;http://tavis.net/rels/sessions&quot;,\r\n            &quot;href&quot;: &quot;https://conferenceapi.azurewebsites.net/speaker/89/sessions&quot;\r\n          }\r\n        ]\r\n      },\r\n      {\r\n        &quot;href&quot;: &quot;https://conferenceapi.azurewebsites.net/speaker/90&quot;,\r\n        &quot;data&quot;: [\r\n          {\r\n            &quot;name&quot;: &quot;Name&quot;,\r\n            &quot;value&quot;: &quot;Rob Ashton&quot;\r\n          }\r\n        ],\r\n        &quot;links&quot;: [\r\n          {\r\n            &quot;rel&quot;: &quot;http://tavis.net/rels/sessions&quot;,\r\n            &quot;href&quot;: &quot;https://conferenceapi.azurewebsites.net/speaker/90/sessions&quot;\r\n          }\r\n        ]\r\n      },\r\n      {\r\n        &quot;href&quot;: &quot;https://conferenceapi.azurewebsites.net/speaker/91&quot;,\r\n        &quot;data&quot;: [\r\n          {\r\n            &quot;name&quot;: &quot;Name&quot;,\r\n            &quot;value&quot;: &quot;Liam Westley&quot;\r\n          }\r\n        ],\r\n        &quot;links&quot;: [\r\n          {\r\n            &quot;rel&quot;: &quot;http://tavis.net/rels/sessions&quot;,\r\n            &quot;href&quot;: &quot;https://conferenceapi.azurewebsites.net/speaker/91/sessions&quot;\r\n          }\r\n        ]\r\n      },\r\n      {\r\n        &quot;href&quot;: &quot;https://conferenceapi.azurewebsites.net/speaker/92&quot;,\r\n        &quot;data&quot;: [\r\n          {\r\n            &quot;name&quot;: &quot;Name&quot;,\r\n            &quot;value&quot;: &quot;Gael Fraiteur&quot;\r\n          }\r\n        ],\r\n        &quot;links&quot;: [\r\n          {\r\n            &quot;rel&quot;: &quot;http://tavis.net/rels/sessions&quot;,\r\n            &quot;href&quot;: &quot;https://conferenceapi.azurewebsites.net/speaker/92/sessions&quot;\r\n          }\r\n        ]\r\n      },\r\n      {\r\n        &quot;href&quot;: &quot;https://conferenceapi.azurewebsites.net/speaker/93&quot;,\r\n        &quot;data&quot;: [\r\n          {\r\n            &quot;name&quot;: &quot;Name&quot;,\r\n            &quot;value&quot;: &quot;Matthew Podwysocki&quot;\r\n          }\r\n        ],\r\n        &quot;links&quot;: [\r\n          {\r\n            &quot;rel&quot;: &quot;http://tavis.net/rels/sessions&quot;,\r\n            &quot;href&quot;: &quot;https://conferenceapi.azurewebsites.net/speaker/93/sessions&quot;\r\n          }\r\n        ]\r\n      },\r\n      {\r\n        &quot;href&quot;: &quot;https://conferenceapi.azurewebsites.net/speaker/94&quot;,\r\n        &quot;data&quot;: [\r\n          {\r\n            &quot;name&quot;: &quot;Name&quot;,\r\n            &quot;value&quot;: &quot;Daniel Roth&quot;\r\n          }\r\n        ],\r\n        &quot;links&quot;: [\r\n          {\r\n            &quot;rel&quot;: &quot;http://tavis.net/rels/sessions&quot;,\r\n            &quot;href&quot;: &quot;https://conferenceapi.azurewebsites.net/speaker/94/sessions&quot;\r\n          }\r\n        ]\r\n      },\r\n      {\r\n        &quot;href&quot;: &quot;https://conferenceapi.azurewebsites.net/speaker/95&quot;,\r\n        &quot;data&quot;: [\r\n          {\r\n            &quot;name&quot;: &quot;Name&quot;,\r\n            &quot;value&quot;: &quot;Darrel Miller&quot;\r\n          }\r\n        ],\r\n        &quot;links&quot;: [\r\n          {\r\n            &quot;rel&quot;: &quot;http://tavis.net/rels/sessions&quot;,\r\n            &quot;href&quot;: &quot;https://conferenceapi.azurewebsites.net/speaker/95/sessions&quot;\r\n          }\r\n        ]\r\n      },\r\n      {\r\n        &quot;href&quot;: &quot;https://conferenceapi.azurewebsites.net/speaker/96&quot;,\r\n        &quot;data&quot;: [\r\n          {\r\n            &quot;name&quot;: &quot;Name&quot;,\r\n            &quot;value&quot;: &quot;Gojko Adzic&quot;\r\n          }\r\n        ],\r\n        &quot;links&quot;: [\r\n          {\r\n            &quot;rel&quot;: &quot;http://tavis.net/rels/sessions&quot;,\r\n            &quot;href&quot;: &quot;https://conferenceapi.azurewebsites.net/speaker/96/sessions&quot;\r\n          }\r\n        ]\r\n      },\r\n      {\r\n        &quot;href&quot;: &quot;https://conferenceapi.azurewebsites.net/speaker/97&quot;,\r\n        &quot;data&quot;: [\r\n          {\r\n            &quot;name&quot;: &quot;Name&quot;,\r\n            &quot;value&quot;: &quot;Ingo Rammer&quot;\r\n          }\r\n        ],\r\n        &quot;links&quot;: [\r\n          {\r\n            &quot;rel&quot;: &quot;http://tavis.net/rels/sessions&quot;,\r\n            &quot;href&quot;: &quot;https://conferenceapi.azurewebsites.net/speaker/97/sessions&quot;\r\n          }\r\n        ]\r\n      },\r\n      {\r\n        &quot;href&quot;: &quot;https://conferenceapi.azurewebsites.net/speaker/98&quot;,\r\n        &quot;data&quot;: [\r\n          {\r\n            &quot;name&quot;: &quot;Name&quot;,\r\n            &quot;value&quot;: &quot;Jon McCoy&quot;\r\n          }\r\n        ],\r\n        &quot;links&quot;: [\r\n          {\r\n            &quot;rel&quot;: &quot;http://tavis.net/rels/sessions&quot;,\r\n            &quot;href&quot;: &quot;https://conferenceapi.azurewebsites.net/speaker/98/sessions&quot;\r\n          }\r\n        ]\r\n      },\r\n      {\r\n        &quot;href&quot;: &quot;https://conferenceapi.azurewebsites.net/speaker/99&quot;,\r\n        &quot;data&quot;: [\r\n          {\r\n            &quot;name&quot;: &quot;Name&quot;,\r\n            &quot;value&quot;: &quot;Karl Krukow&quot;\r\n          }\r\n        ],\r\n        &quot;links&quot;: [\r\n          {\r\n            &quot;rel&quot;: &quot;http://tavis.net/rels/sessions&quot;,\r\n            &quot;href&quot;: &quot;https://conferenceapi.azurewebsites.net/speaker/99/sessions&quot;\r\n          }\r\n        ]\r\n      }\r\n    ],\r\n    &quot;queries&quot;: [],\r\n    &quot;template&quot;: {\r\n      &quot;data&quot;: []\r\n    }\r\n  }\r\n}}</td></tr>",
                            "</table>"
                        ]
                    }
                }
            ],
            "execution_count": 11
        },
        {
            "cell_type": "markdown",
            "source": [
                "4. Parse the JSON response with T-SQL\r\n",
                "    - then store it in your database or ..."
            ],
            "metadata": {
                "language": "sql",
                "azdata_cell_guid": "f5c0a7dc-557c-40fb-98d5-2e359bb60657"
            },
            "attachments": {}
        },
        {
            "cell_type": "code",
            "source": [
                "declare @data as nvarchar(max);\r\n",
                "\r\n",
                "select \r\n",
                "\t@data = JSON_QUERY(response, '$.result.collection.items')\r\n",
                "from #temp;\r\n",
                "\r\n",
                "SELECT [value] as FullName, url\r\n",
                "FROM OPENJSON(@data) WITH (\r\n",
                "\tdata2 NVARCHAR(MAX) '$.data' AS JSON,\r\n",
                "    url NVARCHAR(50) '$.href'\r\n",
                "    )CROSS APPLY OPENJSON(data2)\r\n",
                "WITH ([value] NVARCHAR(50))"
            ],
            "metadata": {
                "language": "sql",
                "azdata_cell_guid": "2a96b53e-6d76-484e-8eff-edfe02222c26"
            },
            "outputs": [
                {
                    "output_type": "display_data",
                    "data": {
                        "text/html": "(99 rows affected)"
                    },
                    "metadata": {}
                },
                {
                    "output_type": "display_data",
                    "data": {
                        "text/html": "Total execution time: 00:00:00.049"
                    },
                    "metadata": {}
                },
                {
                    "output_type": "execute_result",
                    "metadata": {},
                    "execution_count": 12,
                    "data": {
                        "application/vnd.dataresource+json": {
                            "schema": {
                                "fields": [
                                    {
                                        "name": "FullName"
                                    },
                                    {
                                        "name": "url"
                                    }
                                ]
                            },
                            "data": [
                                {
                                    "FullName": "Scott Guthrie",
                                    "url": "https://conferenceapi.azurewebsites.net/speaker/1"
                                },
                                {
                                    "FullName": "Don Syme",
                                    "url": "https://conferenceapi.azurewebsites.net/speaker/2"
                                },
                                {
                                    "FullName": "James Lewis",
                                    "url": "https://conferenceapi.azurewebsites.net/speaker/3"
                                },
                                {
                                    "FullName": "Jessie Shternshus",
                                    "url": "https://conferenceapi.azurewebsites.net/speaker/4"
                                },
                                {
                                    "FullName": "Peter Bacon Darwin",
                                    "url": "https://conferenceapi.azurewebsites.net/speaker/5"
                                },
                                {
                                    "FullName": "Jon Skeet",
                                    "url": "https://conferenceapi.azurewebsites.net/speaker/6"
                                },
                                {
                                    "FullName": "Dominick Baier",
                                    "url": "https://conferenceapi.azurewebsites.net/speaker/7"
                                },
                                {
                                    "FullName": "Craig Dunn",
                                    "url": "https://conferenceapi.azurewebsites.net/speaker/8"
                                },
                                {
                                    "FullName": "Jez Humble",
                                    "url": "https://conferenceapi.azurewebsites.net/speaker/9"
                                },
                                {
                                    "FullName": "Axel Rauschmayer",
                                    "url": "https://conferenceapi.azurewebsites.net/speaker/10"
                                },
                                {
                                    "FullName": "Phillip Trelford",
                                    "url": "https://conferenceapi.azurewebsites.net/speaker/11"
                                },
                                {
                                    "FullName": "Mike Cohn",
                                    "url": "https://conferenceapi.azurewebsites.net/speaker/12"
                                },
                                {
                                    "FullName": "Robert C. Martin",
                                    "url": "https://conferenceapi.azurewebsites.net/speaker/13"
                                },
                                {
                                    "FullName": "Jafar Husain",
                                    "url": "https://conferenceapi.azurewebsites.net/speaker/14"
                                },
                                {
                                    "FullName": "Jessica Kerr",
                                    "url": "https://conferenceapi.azurewebsites.net/speaker/15"
                                },
                                {
                                    "FullName": "Scott Allen",
                                    "url": "https://conferenceapi.azurewebsites.net/speaker/16"
                                },
                                {
                                    "FullName": "Sahil Malik",
                                    "url": "https://conferenceapi.azurewebsites.net/speaker/17"
                                },
                                {
                                    "FullName": "David Fowler",
                                    "url": "https://conferenceapi.azurewebsites.net/speaker/18"
                                },
                                {
                                    "FullName": "Dan North",
                                    "url": "https://conferenceapi.azurewebsites.net/speaker/19"
                                },
                                {
                                    "FullName": "Ashe Dryden",
                                    "url": "https://conferenceapi.azurewebsites.net/speaker/20"
                                },
                                {
                                    "FullName": "Jon Galloway",
                                    "url": "https://conferenceapi.azurewebsites.net/speaker/21"
                                },
                                {
                                    "FullName": "John Azariah",
                                    "url": "https://conferenceapi.azurewebsites.net/speaker/22"
                                },
                                {
                                    "FullName": "Damian Edwards",
                                    "url": "https://conferenceapi.azurewebsites.net/speaker/23"
                                },
                                {
                                    "FullName": "Michele Bustamante",
                                    "url": "https://conferenceapi.azurewebsites.net/speaker/24"
                                },
                                {
                                    "FullName": "Venkat Subramaniam",
                                    "url": "https://conferenceapi.azurewebsites.net/speaker/25"
                                },
                                {
                                    "FullName": "Marit Rossnes",
                                    "url": "https://conferenceapi.azurewebsites.net/speaker/26"
                                },
                                {
                                    "FullName": "Mads Torgersen",
                                    "url": "https://conferenceapi.azurewebsites.net/speaker/27"
                                },
                                {
                                    "FullName": "Nicole Herskowitz",
                                    "url": "https://conferenceapi.azurewebsites.net/speaker/28"
                                },
                                {
                                    "FullName": "Gill Cleeren",
                                    "url": "https://conferenceapi.azurewebsites.net/speaker/29"
                                },
                                {
                                    "FullName": "Gary Bernhardt",
                                    "url": "https://conferenceapi.azurewebsites.net/speaker/30"
                                },
                                {
                                    "FullName": "Mathew McLoughlin",
                                    "url": "https://conferenceapi.azurewebsites.net/speaker/31"
                                },
                                {
                                    "FullName": "David Carmona",
                                    "url": "https://conferenceapi.azurewebsites.net/speaker/32"
                                },
                                {
                                    "FullName": "Juval Lowy",
                                    "url": "https://conferenceapi.azurewebsites.net/speaker/33"
                                },
                                {
                                    "FullName": "Louis Dejardin",
                                    "url": "https://conferenceapi.azurewebsites.net/speaker/34"
                                },
                                {
                                    "FullName": "Stuart Lodge",
                                    "url": "https://conferenceapi.azurewebsites.net/speaker/35"
                                },
                                {
                                    "FullName": "Colin Beales",
                                    "url": "https://conferenceapi.azurewebsites.net/speaker/36"
                                },
                                {
                                    "FullName": "Pedro F&#233;lix",
                                    "url": "https://conferenceapi.azurewebsites.net/speaker/37"
                                },
                                {
                                    "FullName": "Tiberiu Covaci",
                                    "url": "https://conferenceapi.azurewebsites.net/speaker/38"
                                },
                                {
                                    "FullName": "Gary Short",
                                    "url": "https://conferenceapi.azurewebsites.net/speaker/39"
                                },
                                {
                                    "FullName": "Damian Hickey",
                                    "url": "https://conferenceapi.azurewebsites.net/speaker/40"
                                },
                                {
                                    "FullName": "Burke Holland",
                                    "url": "https://conferenceapi.azurewebsites.net/speaker/41"
                                },
                                {
                                    "FullName": "Mark Rendle",
                                    "url": "https://conferenceapi.azurewebsites.net/speaker/42"
                                },
                                {
                                    "FullName": "Miguel Castro",
                                    "url": "https://conferenceapi.azurewebsites.net/speaker/43"
                                },
                                {
                                    "FullName": "Tomas Petricek",
                                    "url": "https://conferenceapi.azurewebsites.net/speaker/44"
                                },
                                {
                                    "FullName": "Geoff Watts",
                                    "url": "https://conferenceapi.azurewebsites.net/speaker/45"
                                },
                                {
                                    "FullName": "Brian A. Randell",
                                    "url": "https://conferenceapi.azurewebsites.net/speaker/46"
                                },
                                {
                                    "FullName": "Erlend Oftedal",
                                    "url": "https://conferenceapi.azurewebsites.net/speaker/47"
                                },
                                {
                                    "FullName": "James Hughes",
                                    "url": "https://conferenceapi.azurewebsites.net/speaker/48"
                                },
                                {
                                    "FullName": "Tomas Jansson",
                                    "url": "https://conferenceapi.azurewebsites.net/speaker/49"
                                },
                                {
                                    "FullName": "G&#225;sp&#225;r Nagy",
                                    "url": "https://conferenceapi.azurewebsites.net/speaker/50"
                                },
                                {
                                    "FullName": "Andy Clymer",
                                    "url": "https://conferenceapi.azurewebsites.net/speaker/51"
                                },
                                {
                                    "FullName": "Carl Franklin",
                                    "url": "https://conferenceapi.azurewebsites.net/speaker/52"
                                },
                                {
                                    "FullName": "Richard Campbell",
                                    "url": "https://conferenceapi.azurewebsites.net/speaker/53"
                                },
                                {
                                    "FullName": "Paul Stack",
                                    "url": "https://conferenceapi.azurewebsites.net/speaker/54"
                                },
                                {
                                    "FullName": "Marcin Floryan",
                                    "url": "https://conferenceapi.azurewebsites.net/speaker/55"
                                },
                                {
                                    "FullName": "Enrico Campidoglio",
                                    "url": "https://conferenceapi.azurewebsites.net/speaker/56"
                                },
                                {
                                    "FullName": "Justin Rusbatch",
                                    "url": "https://conferenceapi.azurewebsites.net/speaker/57"
                                },
                                {
                                    "FullName": "Matt Ellis",
                                    "url": "https://conferenceapi.azurewebsites.net/speaker/58"
                                },
                                {
                                    "FullName": "Christian Weyer",
                                    "url": "https://conferenceapi.azurewebsites.net/speaker/59"
                                },
                                {
                                    "FullName": "JP Toto",
                                    "url": "https://conferenceapi.azurewebsites.net/speaker/60"
                                },
                                {
                                    "FullName": "Mahesh Krishnan",
                                    "url": "https://conferenceapi.azurewebsites.net/speaker/61"
                                },
                                {
                                    "FullName": "Ashic Mahtab",
                                    "url": "https://conferenceapi.azurewebsites.net/speaker/62"
                                },
                                {
                                    "FullName": "Scott Wlaschin",
                                    "url": "https://conferenceapi.azurewebsites.net/speaker/63"
                                },
                                {
                                    "FullName": "Laurent Bugnion",
                                    "url": "https://conferenceapi.azurewebsites.net/speaker/64"
                                },
                                {
                                    "FullName": "Tim G. Thomas",
                                    "url": "https://conferenceapi.azurewebsites.net/speaker/65"
                                },
                                {
                                    "FullName": "Richard Astbury",
                                    "url": "https://conferenceapi.azurewebsites.net/speaker/66"
                                },
                                {
                                    "FullName": "Hubert Matthews",
                                    "url": "https://conferenceapi.azurewebsites.net/speaker/67"
                                },
                                {
                                    "FullName": "Dror Helper",
                                    "url": "https://conferenceapi.azurewebsites.net/speaker/68"
                                },
                                {
                                    "FullName": "Simon Brown",
                                    "url": "https://conferenceapi.azurewebsites.net/speaker/69"
                                },
                                {
                                    "FullName": "Russ Miles",
                                    "url": "https://conferenceapi.azurewebsites.net/speaker/70"
                                },
                                {
                                    "FullName": "Christian Hassa",
                                    "url": "https://conferenceapi.azurewebsites.net/speaker/71"
                                },
                                {
                                    "FullName": "Christian Wenz",
                                    "url": "https://conferenceapi.azurewebsites.net/speaker/72"
                                },
                                {
                                    "FullName": "Mike Taulty",
                                    "url": "https://conferenceapi.azurewebsites.net/speaker/73"
                                },
                                {
                                    "FullName": "Andy Wigley",
                                    "url": "https://conferenceapi.azurewebsites.net/speaker/74"
                                },
                                {
                                    "FullName": "Martin Beeby",
                                    "url": "https://conferenceapi.azurewebsites.net/speaker/75"
                                },
                                {
                                    "FullName": "Mark Seemann",
                                    "url": "https://conferenceapi.azurewebsites.net/speaker/76"
                                },
                                {
                                    "FullName": "Ben Hall",
                                    "url": "https://conferenceapi.azurewebsites.net/speaker/77"
                                },
                                {
                                    "FullName": "Bj&#248;rn Einar Bjartnes",
                                    "url": "https://conferenceapi.azurewebsites.net/speaker/78"
                                },
                                {
                                    "FullName": "Brandon Satrom",
                                    "url": "https://conferenceapi.azurewebsites.net/speaker/79"
                                },
                                {
                                    "FullName": "Jeremy D. Miller",
                                    "url": "https://conferenceapi.azurewebsites.net/speaker/80"
                                },
                                {
                                    "FullName": "Simon Elliston Ball",
                                    "url": "https://conferenceapi.azurewebsites.net/speaker/81"
                                },
                                {
                                    "FullName": "Einar H&#248;st",
                                    "url": "https://conferenceapi.azurewebsites.net/speaker/82"
                                },
                                {
                                    "FullName": "Jonas Winje",
                                    "url": "https://conferenceapi.azurewebsites.net/speaker/83"
                                },
                                {
                                    "FullName": "Steve Sanderson",
                                    "url": "https://conferenceapi.azurewebsites.net/speaker/84"
                                },
                                {
                                    "FullName": "Richard Garside",
                                    "url": "https://conferenceapi.azurewebsites.net/speaker/85"
                                },
                                {
                                    "FullName": "Bryan Hunter",
                                    "url": "https://conferenceapi.azurewebsites.net/speaker/86"
                                },
                                {
                                    "FullName": "Paul Betts",
                                    "url": "https://conferenceapi.azurewebsites.net/speaker/87"
                                },
                                {
                                    "FullName": "Glenn Block",
                                    "url": "https://conferenceapi.azurewebsites.net/speaker/88"
                                },
                                {
                                    "FullName": "Brock Allen",
                                    "url": "https://conferenceapi.azurewebsites.net/speaker/89"
                                },
                                {
                                    "FullName": "Rob Ashton",
                                    "url": "https://conferenceapi.azurewebsites.net/speaker/90"
                                },
                                {
                                    "FullName": "Liam Westley",
                                    "url": "https://conferenceapi.azurewebsites.net/speaker/91"
                                },
                                {
                                    "FullName": "Gael Fraiteur",
                                    "url": "https://conferenceapi.azurewebsites.net/speaker/92"
                                },
                                {
                                    "FullName": "Matthew Podwysocki",
                                    "url": "https://conferenceapi.azurewebsites.net/speaker/93"
                                },
                                {
                                    "FullName": "Daniel Roth",
                                    "url": "https://conferenceapi.azurewebsites.net/speaker/94"
                                },
                                {
                                    "FullName": "Darrel Miller",
                                    "url": "https://conferenceapi.azurewebsites.net/speaker/95"
                                },
                                {
                                    "FullName": "Gojko Adzic",
                                    "url": "https://conferenceapi.azurewebsites.net/speaker/96"
                                },
                                {
                                    "FullName": "Ingo Rammer",
                                    "url": "https://conferenceapi.azurewebsites.net/speaker/97"
                                },
                                {
                                    "FullName": "Jon McCoy",
                                    "url": "https://conferenceapi.azurewebsites.net/speaker/98"
                                },
                                {
                                    "FullName": "Karl Krukow",
                                    "url": "https://conferenceapi.azurewebsites.net/speaker/99"
                                }
                            ]
                        },
                        "text/html": [
                            "<table>",
                            "<tr><th>FullName</th><th>url</th></tr>",
                            "<tr><td>Scott Guthrie</td><td>https://conferenceapi.azurewebsites.net/speaker/1</td></tr>",
                            "<tr><td>Don Syme</td><td>https://conferenceapi.azurewebsites.net/speaker/2</td></tr>",
                            "<tr><td>James Lewis</td><td>https://conferenceapi.azurewebsites.net/speaker/3</td></tr>",
                            "<tr><td>Jessie Shternshus</td><td>https://conferenceapi.azurewebsites.net/speaker/4</td></tr>",
                            "<tr><td>Peter Bacon Darwin</td><td>https://conferenceapi.azurewebsites.net/speaker/5</td></tr>",
                            "<tr><td>Jon Skeet</td><td>https://conferenceapi.azurewebsites.net/speaker/6</td></tr>",
                            "<tr><td>Dominick Baier</td><td>https://conferenceapi.azurewebsites.net/speaker/7</td></tr>",
                            "<tr><td>Craig Dunn</td><td>https://conferenceapi.azurewebsites.net/speaker/8</td></tr>",
                            "<tr><td>Jez Humble</td><td>https://conferenceapi.azurewebsites.net/speaker/9</td></tr>",
                            "<tr><td>Axel Rauschmayer</td><td>https://conferenceapi.azurewebsites.net/speaker/10</td></tr>",
                            "<tr><td>Phillip Trelford</td><td>https://conferenceapi.azurewebsites.net/speaker/11</td></tr>",
                            "<tr><td>Mike Cohn</td><td>https://conferenceapi.azurewebsites.net/speaker/12</td></tr>",
                            "<tr><td>Robert C. Martin</td><td>https://conferenceapi.azurewebsites.net/speaker/13</td></tr>",
                            "<tr><td>Jafar Husain</td><td>https://conferenceapi.azurewebsites.net/speaker/14</td></tr>",
                            "<tr><td>Jessica Kerr</td><td>https://conferenceapi.azurewebsites.net/speaker/15</td></tr>",
                            "<tr><td>Scott Allen</td><td>https://conferenceapi.azurewebsites.net/speaker/16</td></tr>",
                            "<tr><td>Sahil Malik</td><td>https://conferenceapi.azurewebsites.net/speaker/17</td></tr>",
                            "<tr><td>David Fowler</td><td>https://conferenceapi.azurewebsites.net/speaker/18</td></tr>",
                            "<tr><td>Dan North</td><td>https://conferenceapi.azurewebsites.net/speaker/19</td></tr>",
                            "<tr><td>Ashe Dryden</td><td>https://conferenceapi.azurewebsites.net/speaker/20</td></tr>",
                            "<tr><td>Jon Galloway</td><td>https://conferenceapi.azurewebsites.net/speaker/21</td></tr>",
                            "<tr><td>John Azariah</td><td>https://conferenceapi.azurewebsites.net/speaker/22</td></tr>",
                            "<tr><td>Damian Edwards</td><td>https://conferenceapi.azurewebsites.net/speaker/23</td></tr>",
                            "<tr><td>Michele Bustamante</td><td>https://conferenceapi.azurewebsites.net/speaker/24</td></tr>",
                            "<tr><td>Venkat Subramaniam</td><td>https://conferenceapi.azurewebsites.net/speaker/25</td></tr>",
                            "<tr><td>Marit Rossnes</td><td>https://conferenceapi.azurewebsites.net/speaker/26</td></tr>",
                            "<tr><td>Mads Torgersen</td><td>https://conferenceapi.azurewebsites.net/speaker/27</td></tr>",
                            "<tr><td>Nicole Herskowitz</td><td>https://conferenceapi.azurewebsites.net/speaker/28</td></tr>",
                            "<tr><td>Gill Cleeren</td><td>https://conferenceapi.azurewebsites.net/speaker/29</td></tr>",
                            "<tr><td>Gary Bernhardt</td><td>https://conferenceapi.azurewebsites.net/speaker/30</td></tr>",
                            "<tr><td>Mathew McLoughlin</td><td>https://conferenceapi.azurewebsites.net/speaker/31</td></tr>",
                            "<tr><td>David Carmona</td><td>https://conferenceapi.azurewebsites.net/speaker/32</td></tr>",
                            "<tr><td>Juval Lowy</td><td>https://conferenceapi.azurewebsites.net/speaker/33</td></tr>",
                            "<tr><td>Louis Dejardin</td><td>https://conferenceapi.azurewebsites.net/speaker/34</td></tr>",
                            "<tr><td>Stuart Lodge</td><td>https://conferenceapi.azurewebsites.net/speaker/35</td></tr>",
                            "<tr><td>Colin Beales</td><td>https://conferenceapi.azurewebsites.net/speaker/36</td></tr>",
                            "<tr><td>Pedro F&amp;#233;lix</td><td>https://conferenceapi.azurewebsites.net/speaker/37</td></tr>",
                            "<tr><td>Tiberiu Covaci</td><td>https://conferenceapi.azurewebsites.net/speaker/38</td></tr>",
                            "<tr><td>Gary Short</td><td>https://conferenceapi.azurewebsites.net/speaker/39</td></tr>",
                            "<tr><td>Damian Hickey</td><td>https://conferenceapi.azurewebsites.net/speaker/40</td></tr>",
                            "<tr><td>Burke Holland</td><td>https://conferenceapi.azurewebsites.net/speaker/41</td></tr>",
                            "<tr><td>Mark Rendle</td><td>https://conferenceapi.azurewebsites.net/speaker/42</td></tr>",
                            "<tr><td>Miguel Castro</td><td>https://conferenceapi.azurewebsites.net/speaker/43</td></tr>",
                            "<tr><td>Tomas Petricek</td><td>https://conferenceapi.azurewebsites.net/speaker/44</td></tr>",
                            "<tr><td>Geoff Watts</td><td>https://conferenceapi.azurewebsites.net/speaker/45</td></tr>",
                            "<tr><td>Brian A. Randell</td><td>https://conferenceapi.azurewebsites.net/speaker/46</td></tr>",
                            "<tr><td>Erlend Oftedal</td><td>https://conferenceapi.azurewebsites.net/speaker/47</td></tr>",
                            "<tr><td>James Hughes</td><td>https://conferenceapi.azurewebsites.net/speaker/48</td></tr>",
                            "<tr><td>Tomas Jansson</td><td>https://conferenceapi.azurewebsites.net/speaker/49</td></tr>",
                            "<tr><td>G&amp;#225;sp&amp;#225;r Nagy</td><td>https://conferenceapi.azurewebsites.net/speaker/50</td></tr>",
                            "<tr><td>Andy Clymer</td><td>https://conferenceapi.azurewebsites.net/speaker/51</td></tr>",
                            "<tr><td>Carl Franklin</td><td>https://conferenceapi.azurewebsites.net/speaker/52</td></tr>",
                            "<tr><td>Richard Campbell</td><td>https://conferenceapi.azurewebsites.net/speaker/53</td></tr>",
                            "<tr><td>Paul Stack</td><td>https://conferenceapi.azurewebsites.net/speaker/54</td></tr>",
                            "<tr><td>Marcin Floryan</td><td>https://conferenceapi.azurewebsites.net/speaker/55</td></tr>",
                            "<tr><td>Enrico Campidoglio</td><td>https://conferenceapi.azurewebsites.net/speaker/56</td></tr>",
                            "<tr><td>Justin Rusbatch</td><td>https://conferenceapi.azurewebsites.net/speaker/57</td></tr>",
                            "<tr><td>Matt Ellis</td><td>https://conferenceapi.azurewebsites.net/speaker/58</td></tr>",
                            "<tr><td>Christian Weyer</td><td>https://conferenceapi.azurewebsites.net/speaker/59</td></tr>",
                            "<tr><td>JP Toto</td><td>https://conferenceapi.azurewebsites.net/speaker/60</td></tr>",
                            "<tr><td>Mahesh Krishnan</td><td>https://conferenceapi.azurewebsites.net/speaker/61</td></tr>",
                            "<tr><td>Ashic Mahtab</td><td>https://conferenceapi.azurewebsites.net/speaker/62</td></tr>",
                            "<tr><td>Scott Wlaschin</td><td>https://conferenceapi.azurewebsites.net/speaker/63</td></tr>",
                            "<tr><td>Laurent Bugnion</td><td>https://conferenceapi.azurewebsites.net/speaker/64</td></tr>",
                            "<tr><td>Tim G. Thomas</td><td>https://conferenceapi.azurewebsites.net/speaker/65</td></tr>",
                            "<tr><td>Richard Astbury</td><td>https://conferenceapi.azurewebsites.net/speaker/66</td></tr>",
                            "<tr><td>Hubert Matthews</td><td>https://conferenceapi.azurewebsites.net/speaker/67</td></tr>",
                            "<tr><td>Dror Helper</td><td>https://conferenceapi.azurewebsites.net/speaker/68</td></tr>",
                            "<tr><td>Simon Brown</td><td>https://conferenceapi.azurewebsites.net/speaker/69</td></tr>",
                            "<tr><td>Russ Miles</td><td>https://conferenceapi.azurewebsites.net/speaker/70</td></tr>",
                            "<tr><td>Christian Hassa</td><td>https://conferenceapi.azurewebsites.net/speaker/71</td></tr>",
                            "<tr><td>Christian Wenz</td><td>https://conferenceapi.azurewebsites.net/speaker/72</td></tr>",
                            "<tr><td>Mike Taulty</td><td>https://conferenceapi.azurewebsites.net/speaker/73</td></tr>",
                            "<tr><td>Andy Wigley</td><td>https://conferenceapi.azurewebsites.net/speaker/74</td></tr>",
                            "<tr><td>Martin Beeby</td><td>https://conferenceapi.azurewebsites.net/speaker/75</td></tr>",
                            "<tr><td>Mark Seemann</td><td>https://conferenceapi.azurewebsites.net/speaker/76</td></tr>",
                            "<tr><td>Ben Hall</td><td>https://conferenceapi.azurewebsites.net/speaker/77</td></tr>",
                            "<tr><td>Bj&amp;#248;rn Einar Bjartnes</td><td>https://conferenceapi.azurewebsites.net/speaker/78</td></tr>",
                            "<tr><td>Brandon Satrom</td><td>https://conferenceapi.azurewebsites.net/speaker/79</td></tr>",
                            "<tr><td>Jeremy D. Miller</td><td>https://conferenceapi.azurewebsites.net/speaker/80</td></tr>",
                            "<tr><td>Simon Elliston Ball</td><td>https://conferenceapi.azurewebsites.net/speaker/81</td></tr>",
                            "<tr><td>Einar H&amp;#248;st</td><td>https://conferenceapi.azurewebsites.net/speaker/82</td></tr>",
                            "<tr><td>Jonas Winje</td><td>https://conferenceapi.azurewebsites.net/speaker/83</td></tr>",
                            "<tr><td>Steve Sanderson</td><td>https://conferenceapi.azurewebsites.net/speaker/84</td></tr>",
                            "<tr><td>Richard Garside</td><td>https://conferenceapi.azurewebsites.net/speaker/85</td></tr>",
                            "<tr><td>Bryan Hunter</td><td>https://conferenceapi.azurewebsites.net/speaker/86</td></tr>",
                            "<tr><td>Paul Betts</td><td>https://conferenceapi.azurewebsites.net/speaker/87</td></tr>",
                            "<tr><td>Glenn Block</td><td>https://conferenceapi.azurewebsites.net/speaker/88</td></tr>",
                            "<tr><td>Brock Allen</td><td>https://conferenceapi.azurewebsites.net/speaker/89</td></tr>",
                            "<tr><td>Rob Ashton</td><td>https://conferenceapi.azurewebsites.net/speaker/90</td></tr>",
                            "<tr><td>Liam Westley</td><td>https://conferenceapi.azurewebsites.net/speaker/91</td></tr>",
                            "<tr><td>Gael Fraiteur</td><td>https://conferenceapi.azurewebsites.net/speaker/92</td></tr>",
                            "<tr><td>Matthew Podwysocki</td><td>https://conferenceapi.azurewebsites.net/speaker/93</td></tr>",
                            "<tr><td>Daniel Roth</td><td>https://conferenceapi.azurewebsites.net/speaker/94</td></tr>",
                            "<tr><td>Darrel Miller</td><td>https://conferenceapi.azurewebsites.net/speaker/95</td></tr>",
                            "<tr><td>Gojko Adzic</td><td>https://conferenceapi.azurewebsites.net/speaker/96</td></tr>",
                            "<tr><td>Ingo Rammer</td><td>https://conferenceapi.azurewebsites.net/speaker/97</td></tr>",
                            "<tr><td>Jon McCoy</td><td>https://conferenceapi.azurewebsites.net/speaker/98</td></tr>",
                            "<tr><td>Karl Krukow</td><td>https://conferenceapi.azurewebsites.net/speaker/99</td></tr>",
                            "</table>"
                        ]
                    }
                }
            ],
            "execution_count": 12
        }
    ]
}