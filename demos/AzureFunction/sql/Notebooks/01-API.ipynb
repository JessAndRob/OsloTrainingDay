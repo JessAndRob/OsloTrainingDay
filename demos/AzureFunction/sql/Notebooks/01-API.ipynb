{
    "metadata": {
        "kernelspec": {
            "name": "SQL",
            "display_name": "SQL",
            "language": "sql"
        },
        "language_info": {
            "name": "sql",
            "version": ""
        }
    },
    "nbformat_minor": 2,
    "nbformat": 4,
    "cells": [
        {
            "cell_type": "markdown",
            "source": [
                "# Call an API to get some data\r\n",
                "\r\n",
                "We can call any APIs that are in our Azure 'API Management Instance'.\r\n",
                "This is basically a gateway to other APIs. We can add any that meet the OpenAPI Specification.\r\n",
                "\r\n",
                "## PreReqs\r\n",
                "- Create an 'API Management Instance'\r\n",
                "- Add & publish an API\r\n",
                "- These APIs can be open or secured\r\n",
                "    - If secured you'll need a subscription key from APIM to connect\r\n",
                "\r\n",
                "## Demo\r\n",
                "\r\n",
                "For secured APIs we'll need to save the subscription key as a `DATABASE SCOPED CREDENTIAL`\r\n",
                "\r\n",
                "1. We'll need a database master key with a proper strong password"
            ],
            "metadata": {
                "azdata_cell_guid": "a7bb63cd-49ae-4e2e-b0fe-35190a7f1b87"
            },
            "attachments": {}
        },
        {
            "cell_type": "code",
            "source": [
                "IF NOT EXISTS(SELECT * FROM sys.symmetric_keys WHERE name = '##MS_DatabaseMasterKey##')\r\n",
                "BEGIN\r\n",
                "    create master key encryption by password = '*********'\r\n",
                "END"
            ],
            "metadata": {
                "azdata_cell_guid": "d017fdd4-55a4-412d-aa76-516c7e45ab50",
                "language": "sql"
            },
            "outputs": [],
            "execution_count": null
        },
        {
            "cell_type": "markdown",
            "source": [
                "2. Create the `DATABASE SCOPED CREDENTIAL` for the subscription key"
            ],
            "metadata": {
                "azdata_cell_guid": "8e070804-9ba1-4c47-b0e8-08518f944d0a"
            },
            "attachments": {}
        },
        {
            "cell_type": "code",
            "source": [
                "IF NOT EXISTS (SELECT 1 FROM sys.database_credentials WHERE name = 'https://pom-api.azure-api.net/conference/speakers')\r\n",
                "BEGIN\r\n",
                "    -- create a database scoped credential for managed identity (or Request Headers or Query String)\r\n",
                "    CREATE DATABASE SCOPED CREDENTIAL [https://pom-api.azure-api.net/conference/speakers]\r\n",
                "    WITH IDENTITY = 'HTTPEndpointHeaders', SECRET = '{\"Ocp-Apim-Subscription-Key\":\"*********\"}';\r\n",
                "END"
            ],
            "metadata": {
                "azdata_cell_guid": "3a729930-ea50-4079-a8c1-cb7bb3842467",
                "language": "sql",
                "tags": []
            },
            "outputs": [],
            "execution_count": null
        },
        {
            "cell_type": "markdown",
            "source": [
                "3. Call the API and store the response in a temp table"
            ],
            "metadata": {
                "language": "sql",
                "azdata_cell_guid": "c8dc6882-42f4-4890-9fde-14a1e9d13b8c"
            },
            "attachments": {}
        },
        {
            "cell_type": "code",
            "source": [
                "drop table if exists #temp \r\n",
                "\r\n",
                "declare @url varchar(500) = 'https://pom-api.azure-api.net/conference/speakers'\r\n",
                "\r\n",
                "declare @ret as int, @response as nvarchar(max);\r\n",
                "\r\n",
                "exec @ret = sp_invoke_external_rest_endpoint\r\n",
                "\t @method = 'GET',\r\n",
                "\t @url = @url,\r\n",
                "     @credential = [https://pom-api.azure-api.net/conference/speakers],\r\n",
                " \t @response = @response output;\r\n",
                "\t\r\n",
                "select @ret as ReturnCode, @response as Response\r\n",
                "into #temp\r\n",
                "\r\n",
                "declare @data as nvarchar(max);\r\n",
                "\r\n",
                "select \r\n",
                "\t@data = JSON_QUERY(response, '$.result.collection.items')\r\n",
                "from #temp;\r\n",
                "\r\n",
                "select \r\n",
                "\tReturnCode, Response\r\n",
                "from #temp"
            ],
            "metadata": {
                "azdata_cell_guid": "3eb8b19e-610e-4c61-aca7-3c88d028daaf",
                "language": "sql",
                "tags": []
            },
            "outputs": [],
            "execution_count": null
        },
        {
            "cell_type": "markdown",
            "source": [
                "4. Parse the JSON response with T-SQL\r\n",
                "    - then store it in your database or ..."
            ],
            "metadata": {
                "language": "sql",
                "azdata_cell_guid": "f5c0a7dc-557c-40fb-98d5-2e359bb60657"
            },
            "attachments": {}
        },
        {
            "cell_type": "code",
            "source": [
                "declare @data as nvarchar(max);\r\n",
                "\r\n",
                "select \r\n",
                "\t@data = JSON_QUERY(response, '$.result.collection.items')\r\n",
                "from #temp;\r\n",
                "\r\n",
                "SELECT [value] as FullName, url\r\n",
                "FROM OPENJSON(@data) WITH (\r\n",
                "\tdata2 NVARCHAR(MAX) '$.data' AS JSON,\r\n",
                "    url NVARCHAR(50) '$.href'\r\n",
                "    )CROSS APPLY OPENJSON(data2)\r\n",
                "WITH ([value] NVARCHAR(50))"
            ],
            "metadata": {
                "language": "sql",
                "azdata_cell_guid": "2a96b53e-6d76-484e-8eff-edfe02222c26"
            },
            "outputs": [],
            "execution_count": null
        }
    ]
}