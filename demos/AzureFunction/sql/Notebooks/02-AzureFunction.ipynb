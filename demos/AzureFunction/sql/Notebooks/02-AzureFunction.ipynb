{
    "metadata": {
        "kernelspec": {
            "name": "SQL",
            "display_name": "SQL",
            "language": "sql"
        },
        "language_info": {
            "name": "sql",
            "version": ""
        }
    },
    "nbformat_minor": 2,
    "nbformat": 4,
    "cells": [
        {
            "cell_type": "markdown",
            "source": [
                "# Azure Function to build Storage Accounts\r\n",
                "\r\n",
                "We have a table that contains the details of the required storage accounts - let's have Azure SQL build them out.\r\n",
                "\r\n",
                "Requirements:\r\n",
                "- The Azure SQL DB table should be the 'system of record' - so the single source of truth\r\n",
                "- Adding rows should create a storage account\r\n",
                "- Deleting rows should remove the storage account\r\n",
                "- Modifying rows?\r\n",
                "\r\n",
                "Questions remain in this example:\r\n",
                "- How does the data get here?\r\n",
                "    - Maybe another API to insert data - from change management system\r\n",
                "    - A front end web application that lets users request storage accounts\r\n",
                "    - ??\r\n",
                "\r\n",
                ""
            ],
            "metadata": {
                "azdata_cell_guid": "f120050d-41bd-4deb-b471-0cf4acf426be"
            },
            "attachments": {}
        },
        {
            "cell_type": "markdown",
            "source": [
                "## PreReqs\n",
                "- Create the Azure Function to do the work\n",
                "- Configure Authentication\n",
                "    - There are options - best option is Managed Identity\n",
                "        - Enable Managed Identity for Azure SQL Database\n",
                "            - This creates an app id to use for authentication\n",
                "        - Enabled Azure AD authentication for Azure Function\n",
                "\n",
                "## Demo\n",
                "\n",
                "1. Create a database master key if one doesn't exist - with a proper strong password"
            ],
            "metadata": {
                "language": "sql",
                "azdata_cell_guid": "fb3b77e4-61ba-48a8-a9f6-f8de4f8f5ca6"
            },
            "attachments": {}
        },
        {
            "cell_type": "code",
            "source": [
                "-- create a database master key\r\n",
                "IF NOT EXISTS(SELECT * FROM sys.symmetric_keys WHERE name = '##MS_DatabaseMasterKey##')\r\n",
                "BEGIN\r\n",
                "    create master key encryption by password = '*********'\r\n",
                "END"
            ],
            "metadata": {
                "azdata_cell_guid": "135dce32-f465-4267-af10-faddf930a2e7",
                "language": "sql"
            },
            "outputs": [
                {
                    "output_type": "display_data",
                    "data": {
                        "text/html": "Commands completed successfully."
                    },
                    "metadata": {}
                },
                {
                    "output_type": "display_data",
                    "data": {
                        "text/html": "Total execution time: 00:00:00.027"
                    },
                    "metadata": {}
                }
            ],
            "execution_count": 4
        },
        {
            "cell_type": "markdown",
            "source": [
                "2. Store the key for the function as a `DATABSAE SCOPED CREDENTIAL`\r\n",
                "\r\n",
                "(Could also be the app_id for the SQL Server managed identity)"
            ],
            "metadata": {
                "azdata_cell_guid": "47b80104-f9db-4c92-bdb2-cc25b35272a9"
            },
            "attachments": {}
        },
        {
            "cell_type": "code",
            "source": [
                "IF NOT EXISTS (SELECT 1 FROM sys.database_credentials WHERE name = 'https://psconfeu2023.azurewebsites.net/api/NewStorageAcct')\n",
                "BEGIN\n",
                "    -- create a database scoped credential for managed identity (or Request Headers or Query String)\n",
                "    CREATE DATABASE SCOPED CREDENTIAL [https://psconfeu2023.azurewebsites.net/api/NewStorageAcct]\n",
                "    WITH IDENTITY = 'HTTPEndpointHeaders', SECRET = '{\"Ocp-Apim-Subscription-Key\":\"*********\"}';\n",
                "END"
            ],
            "metadata": {
                "azdata_cell_guid": "2260fdb7-37b5-4abf-8fda-4c2e596d358c",
                "language": "sql",
                "tags": []
            },
            "outputs": [
                {
                    "output_type": "display_data",
                    "data": {
                        "text/html": "Commands completed successfully."
                    },
                    "metadata": {}
                },
                {
                    "output_type": "display_data",
                    "data": {
                        "text/html": "Total execution time: 00:00:00.024"
                    },
                    "metadata": {}
                }
            ],
            "execution_count": 5
        },
        {
            "cell_type": "markdown",
            "source": [
                "3. Call `sp_invoke_external_rest_endpoint` to create a storage account"
            ],
            "metadata": {
                "azdata_cell_guid": "134feaa0-9b6f-4c78-9fe5-c9147550ca93"
            },
            "attachments": {}
        },
        {
            "cell_type": "code",
            "source": [
                "declare @name varchar(24) = 'psconf2023stg8',\r\n",
                "\t    @url varchar(500)\r\n",
                "\r\n",
                "set @url = 'https://psconfeu2023.azurewebsites.net/api/NewStorageAcct?name=' + LOWER(@Name)\r\n",
                "\r\n",
                "declare @ret as int, @response as nvarchar(max);\r\n",
                "\r\n",
                "exec @ret = sp_invoke_external_rest_endpoint \r\n",
                "\t@method = 'GET',\r\n",
                "\t@url = @url,\r\n",
                "    @timeout = 230, -- max value which is 3.8 mins\r\n",
                "    @credential = [https://psconfeu2023.azurewebsites.net/api/NewStorageAcct],\r\n",
                " \t@response = @response output;\r\n",
                "\t\r\n",
                "select @ret as ReturnCode, @response as Response;\r\n",
                "\r\n",
                "GO"
            ],
            "metadata": {
                "azdata_cell_guid": "ee095b8f-a359-4a50-8345-d267149961f2",
                "language": "sql"
            },
            "outputs": [
                {
                    "output_type": "display_data",
                    "data": {
                        "text/html": "(1 row affected)"
                    },
                    "metadata": {}
                },
                {
                    "output_type": "display_data",
                    "data": {
                        "text/html": "Total execution time: 00:00:21.446"
                    },
                    "metadata": {}
                },
                {
                    "output_type": "execute_result",
                    "metadata": {},
                    "execution_count": 7,
                    "data": {
                        "application/vnd.dataresource+json": {
                            "schema": {
                                "fields": [
                                    {
                                        "name": "ReturnCode"
                                    },
                                    {
                                        "name": "Response"
                                    }
                                ]
                            },
                            "data": [
                                {
                                    "ReturnCode": "0",
                                    "Response": "{\"response\":{\"status\":{\"http\":{\"code\":200,\"description\":\"OK\"}},\"headers\":{\"Date\":\"Sun, 11 Jun 2023 13:17:22 GMT\",\"Transfer-Encoding\":\"chunked\",\"Content-Type\":\"application\\/json; charset=utf-8\",\"Request-Context\":\"appId=cid-v1:13446fe7-e7d5-484b-8f38-7678af24ebc6\",\"Strict-Transport-Security\":\"max-age=31536000; includeSubDomains\"}},\"result\":{\r\n  \"StorageAccountName\": \"psconf2023stg8\",\r\n  \"ProvisioningState\": \"Succeeded\",\r\n  \"CreationTime\": \"2023-06-11T13:17:02.3365236Z\",\r\n  \"Tags\": {\r\n    \"CreatedBy\": \"AzFunc\"\r\n  }\r\n}}"
                                }
                            ]
                        },
                        "text/html": [
                            "<table>",
                            "<tr><th>ReturnCode</th><th>Response</th></tr>",
                            "<tr><td>0</td><td>{&quot;response&quot;:{&quot;status&quot;:{&quot;http&quot;:{&quot;code&quot;:200,&quot;description&quot;:&quot;OK&quot;}},&quot;headers&quot;:{&quot;Date&quot;:&quot;Sun, 11 Jun 2023 13:17:22 GMT&quot;,&quot;Transfer-Encoding&quot;:&quot;chunked&quot;,&quot;Content-Type&quot;:&quot;application\\/json; charset=utf-8&quot;,&quot;Request-Context&quot;:&quot;appId=cid-v1:13446fe7-e7d5-484b-8f38-7678af24ebc6&quot;,&quot;Strict-Transport-Security&quot;:&quot;max-age=31536000; includeSubDomains&quot;}},&quot;result&quot;:{\r\n  &quot;StorageAccountName&quot;: &quot;psconf2023stg8&quot;,\r\n  &quot;ProvisioningState&quot;: &quot;Succeeded&quot;,\r\n  &quot;CreationTime&quot;: &quot;2023-06-11T13:17:02.3365236Z&quot;,\r\n  &quot;Tags&quot;: {\r\n    &quot;CreatedBy&quot;: &quot;AzFunc&quot;\r\n  }\r\n}}</td></tr>",
                            "</table>"
                        ]
                    }
                }
            ],
            "execution_count": 7
        }
    ]
}